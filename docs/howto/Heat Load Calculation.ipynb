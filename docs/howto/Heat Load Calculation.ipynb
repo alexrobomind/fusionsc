{
 "cells": [
  {
   "cell_type": "markdown",
   "id": "b54784e9-53bd-4fb0-b830-5f1ee45a1bce",
   "metadata": {
    "tags": []
   },
   "source": [
    "Heat load calculation (Wendelstein 7-X)\n",
    "================================\n",
    "\n",
    "This example shows how to create headßload distribution plots for Wendelstein 7-X. First, we need to perform some setup to make sure W7-X data are available."
   ]
  },
  {
   "cell_type": "code",
   "execution_count": 1,
   "id": "1abf3ebd-e7c5-4c0e-a618-3e592afc1c81",
   "metadata": {},
   "outputs": [],
   "source": [
    "import fusionsc as fsc\n",
    "from fusionsc.devices import w7x\n",
    "import numpy as np\n",
    "import matplotlib.pyplot as plt"
   ]
  },
  {
   "cell_type": "code",
   "execution_count": 2,
   "id": "563f3ea0-5112-4608-ad8b-8a2b38850b5f",
   "metadata": {},
   "outputs": [],
   "source": [
    "fsc.resolve.importOfflineData('../../w7x-op21.fsc')"
   ]
  },
  {
   "cell_type": "markdown",
   "id": "9c1f2e57-02a0-421d-8e93-1cf49c97a4c4",
   "metadata": {},
   "source": [
    "Now we need to setup the geometry and magnetic field configuration."
   ]
  },
  {
   "cell_type": "code",
   "execution_count": 3,
   "id": "5aede981-0521-4be5-8b17-b271eff73221",
   "metadata": {},
   "outputs": [],
   "source": [
    "field = w7x.standard()\n",
    "geometry = w7x.op21Geometry()\n",
    "\n",
    "grid = fsc.capnp.clone(w7x.defaultGrid)\n",
    "grid.nR = 128\n",
    "grid.nZ = 128\n",
    "grid.nPhi = 32"
   ]
  },
  {
   "cell_type": "code",
   "execution_count": 4,
   "id": "22f77631-0792-467a-b9ca-59a70c9bd49e",
   "metadata": {},
   "outputs": [],
   "source": [
    "field = field.compute(grid)\n",
    "geometry = geometry.index(w7x.defaultGeometryGrid)"
   ]
  },
  {
   "cell_type": "markdown",
   "id": "3e9cf1b6-f56a-43e8-b65d-9de48430d31d",
   "metadata": {},
   "source": [
    "Before we can run the calculation, we need to determine the seeding points for it. Our strategy here is to find the LCFS, then move a bit inward."
   ]
  },
  {
   "cell_type": "code",
   "execution_count": 5,
   "id": "5e9641c8-124e-4bfb-8efe-81c5122d3de9",
   "metadata": {},
   "outputs": [],
   "source": [
    "pInside = [5.5, 0, 0]\n",
    "pOutside = [6.5, 0, 0]\n",
    "\n",
    "lcfs = fsc.flt.findLCFS(field, geometry, pOutside, pInside)"
   ]
  },
  {
   "cell_type": "code",
   "execution_count": 6,
   "id": "f599494e-94d2-49e3-87ea-ac3f7708f044",
   "metadata": {},
   "outputs": [
    {
     "name": "stdout",
     "output_type": "stream",
     "text": [
      "[6.20675202 0.         0.        ] [6.19675202 0.         0.        ]\n"
     ]
    }
   ],
   "source": [
    "pStart = lcfs + [-0.01, 0, 0]\n",
    "print(lcfs, pStart)"
   ]
  },
  {
   "cell_type": "code",
   "execution_count": 7,
   "id": "9a0aa667-9c9d-416b-9eb9-edf0b41bfaf2",
   "metadata": {},
   "outputs": [],
   "source": [
    "startPlanes = np.linspace(0 , 2 / 5 * np.pi, 10, endpoint = False)\n",
    "nTurns = 200\n",
    "xSurf, ySurf, zSurf, _, _ = fsc.flt.poincareInPhiPlanes(pStart, startPlanes, nTurns, field)"
   ]
  },
  {
   "cell_type": "markdown",
   "id": "3916aa0e-24a1-47a4-ad5e-5bc4575862b4",
   "metadata": {},
   "source": [
    "Let's take a look at our starting surface"
   ]
  },
  {
   "cell_type": "code",
   "execution_count": 8,
   "id": "bad160b3-3aee-4b26-8f17-2ddc89198704",
   "metadata": {},
   "outputs": [
    {
     "data": {
      "text/plain": [
       "(10, 200)"
      ]
     },
     "execution_count": 8,
     "metadata": {},
     "output_type": "execute_result"
    },
    {
     "data": {
      "image/png": "[encoded data removed]",
      "text/plain": [
       "<Figure size 432x288 with 1 Axes>"
      ]
     },
     "metadata": {
      "needs_background": "light"
     },
     "output_type": "display_data"
    }
   ],
   "source": [
    "rSurf = np.sqrt(xSurf**2 + ySurf**2)\n",
    "plt.scatter(rSurf[0], zSurf[0])\n",
    "geometry.plotCut(startPlanes[0], color='k')\n",
    "plt.axis(\"equal\")\n",
    "xSurf.shape"
   ]
  },
  {
   "cell_type": "markdown",
   "id": "8d856033-9a37-4ee5-a415-56d06289f150",
   "metadata": {},
   "source": [
    "Since the surface looks OK we can now start to do our tracing on the nTurns * nPlanes = 2000 points we obtained. Since we want to do diffusive tracing, we enable the parallel diffusion model."
   ]
  },
  {
   "cell_type": "code",
   "execution_count": null,
   "id": "5f6e237b-0721-4e8a-977e-9106a0514dd4",
   "metadata": {},
   "outputs": [],
   "source": [
    "traceResult = fsc.flt.trace(\n",
    "    [xSurf, ySurf, zSurf], field, geometry,\n",
    "    distanceLimit = 0, # Disable distance limit\n",
    "    collisionLimit = 1, # Terminate field line on first collision\n",
    "    meanFreePath = 1, meanFreePathGrowth = 0.1,\n",
    "    parallelDiffusionCoefficient = 1,\n",
    "    # parallelConvectionVelocity = 1,\n",
    "    isotropicDiffusionCoefficient = 1e-7\n",
    ")"
   ]
  },
  {
   "cell_type": "markdown",
   "id": "2b13ffc7-7a1f-4cc3-ae43-27c4398a71b3",
   "metadata": {},
   "source": [
    "The result of flt.trace is a superset of the Poincare and connection-length functions (in fact these functions just call trace and return part of the result). Of interest for us is the dict entry 'endPoints', which contains 4 pieces of information about the end points: Their x, y, and z coordinates as well as the length of the field line (which we don't care about here). Since we know the final distribution to be Stellarator-symmetric, we symmetrize the heat loads between our divertors to get better statistics."
   ]
  },
  {
   "cell_type": "code",
   "execution_count": null,
   "id": "f9639dda-3581-438d-966e-2efd702bf2ad",
   "metadata": {},
   "outputs": [],
   "source": [
    "print(traceResult.keys())\n",
    "print(traceResult['endPoints'].shape)\n",
    "xyz = traceResult['endPoints'][0:3]\n",
    "xyz = fsc.flt.symmetrize(xyz, nSym = 5, stellaratorSymmetric = True)\n",
    "print(xyz.shape)"
   ]
  },
  {
   "cell_type": "markdown",
   "id": "616e9c59-bc6f-4dbe-8d1a-8e739887167c",
   "metadata": {},
   "source": [
    "To obtain the heat loads from the point cloud, we use the 'hfcam' module. To do that, we need to follow the following steps:\n",
    "- Define a projection view\n",
    "- Build a camera that contains a rasterized geometry mesh and infos about the rasterization.\n",
    "- Render the points into the camera image."
   ]
  },
  {
   "cell_type": "code",
   "execution_count": null,
   "id": "e24fc0c6-af99-448b-9f84-fb656f648c2c",
   "metadata": {},
   "outputs": [],
   "source": [
    "camGeo = w7x.divertor('OP21')# + w7x.baffles('OP21')\n",
    "camProj = fsc.hfcam.toroidalProjection(\n",
    "    w = 2500, h = 1200,\n",
    "    #w = 625, h = 300,\n",
    "    phi = np.radians(7), rTarget = 5.8, zTarget = -0.5,\n",
    "    verticalInclination = np.radians(30), horizontalInclination = 0,\n",
    "    distance = 0.5, viewportHeight = 2.5,\n",
    "    fieldOfView = np.radians(0)\n",
    ")\n",
    "cam = fsc.hfcam.make(camProj, camGeo, depthTolerance = 0)"
   ]
  },
  {
   "cell_type": "code",
   "execution_count": null,
   "id": "e41e307f-d008-40f6-8060-b43ccb914645",
   "metadata": {},
   "outputs": [],
   "source": [
    "camData = cam.getData()\n",
    "detBuf = np.asarray(camData.determinantBuffer)\n",
    "cam.clear()\n",
    "cam.addPoints(xyz, r = 0.015)\n",
    "result = cam.get()\n",
    "\n",
    "plt.figure(figsize = (24, 14))\n",
    "plt.imshow(detBuf.T, origin ='lower', cmap = 'gray')\n",
    "plt.imshow(np.asarray(result.image).T / xyz.size * 3, origin = 'lower', cmap = 'magma', alpha=0.7)\n",
    "plt.colorbar()"
   ]
  },
  {
   "cell_type": "code",
   "execution_count": null,
   "id": "d3d6cede-43f8-42f0-a7df-b91e1d11b450",
   "metadata": {},
   "outputs": [],
   "source": []
  }
 ],
 "metadata": {
  "kernelspec": {
   "display_name": "Python 3 (ipykernel)",
   "language": "python",
   "name": "python3"
  },
  "language_info": {
   "codemirror_mode": {
    "name": "ipython",
    "version": 3
   },
   "file_extension": ".py",
   "mimetype": "text/x-python",
   "name": "python",
   "nbconvert_exporter": "python",
   "pygments_lexer": "ipython3",
   "version": "3.10.4"
  }
 },
 "nbformat": 4,
 "nbformat_minor": 5
}
