{
 "cells": [
  {
   "cell_type": "markdown",
   "id": "ca6faffd-32ed-4c32-9921-e424c7a01464",
   "metadata": {},
   "source": [
    "Loading a 2D equilibrium (J-TEXT)\n",
    "================================="
   ]
  },
  {
   "cell_type": "code",
   "execution_count": 2,
   "id": "7aea8032-2ea7-4cdd-9321-ddca1e3592de",
   "metadata": {},
   "outputs": [],
   "source": [
    "import fusionsc as fsc\n",
    "from fusionsc.devices import jtext\n",
    "import numpy as np\n",
    "from tqdm.auto import tqdm"
   ]
  },
  {
   "cell_type": "code",
   "execution_count": 3,
   "id": "222191e1-bb47-4c83-8bb3-bff1f24ffdb6",
   "metadata": {},
   "outputs": [],
   "source": [
    "efitExample = jtext.exampleGeqdsk()\n",
    "field = fsc.magnetics.MagneticConfig.fromEFit(efitExample)\n",
    "geometry = jtext.hfsLimiter() + jtext.target()\n",
    "\n",
    "perturbation = jtext.islandCoils([1] * 6)"
   ]
  },
  {
   "cell_type": "code",
   "execution_count": 4,
   "id": "7442142c-5327-4abc-a994-db064c6d0b30",
   "metadata": {},
   "outputs": [],
   "source": [
    "grid = jtext.defaultGrid()\n",
    "geoGrid = jtext.defaultGeometryGrid()"
   ]
  },
  {
   "cell_type": "code",
   "execution_count": 4,
   "id": "de44b8f7-c4e6-4908-96a1-f82de672e1d4",
   "metadata": {},
   "outputs": [
    {
     "data": {
      "application/vnd.jupyter.widget-view+json": {
       "model_id": "d20bf3ac3cf94b7b87a4d4e6a073056b",
       "version_major": 2,
       "version_minor": 0
      },
      "text/plain": [
       "ViewInteractiveWidget(height=768, layout=Layout(height='auto', width='100%'), width=1024)"
      ]
     },
     "metadata": {},
     "output_type": "display_data"
    }
   ],
   "source": [
    "import pyvista as pv\n",
    "pl = pv.Plotter()\n",
    "pl.add_mesh(fsc.magnetics.visualizeCoils(perturbation), line_width = 5)\n",
    "pl.add_mesh(geometry.asPyvista())\n",
    "pl.show()"
   ]
  },
  {
   "cell_type": "code",
   "execution_count": 5,
   "id": "68ad8028-cc5c-46f1-a6d7-a30f52f59b08",
   "metadata": {},
   "outputs": [],
   "source": [
    "field = field.compute(grid)\n",
    "perturbation = perturbation.compute(grid)\n",
    "geometry = geometry.index(geoGrid)"
   ]
  },
  {
   "cell_type": "code",
   "execution_count": 6,
   "id": "0448422c-aa25-4a5e-ac59-b48310e50c30",
   "metadata": {},
   "outputs": [],
   "source": [
    "startPoints = np.linspace([0.8, 0, 0], [1.2, 0, 0], 20, axis = 1)"
   ]
  },
  {
   "cell_type": "code",
   "execution_count": 9,
   "id": "eceee95a-c865-416a-9e89-bb8a75261e9c",
   "metadata": {},
   "outputs": [
    {
     "data": {
      "application/vnd.jupyter.widget-view+json": {
       "model_id": "68b3434842f54b09a07658df047c8c62",
       "version_major": 2,
       "version_minor": 0
      },
      "text/plain": [
       "  0%|          | 0/3 [00:00<?, ?it/s]"
      ]
     },
     "metadata": {},
     "output_type": "display_data"
    },
    {
     "ename": "NameError",
     "evalue": "name 'plt' is not defined",
     "output_type": "error",
     "traceback": [
      "\u001b[1;31m---------------------------------------------------------------------------\u001b[0m",
      "\u001b[1;31mNameError\u001b[0m                                 Traceback (most recent call last)",
      "Input \u001b[1;32mIn [9]\u001b[0m, in \u001b[0;36m<cell line: 1>\u001b[1;34m()\u001b[0m\n\u001b[0;32m      1\u001b[0m \u001b[38;5;28;01mfor\u001b[39;00m current \u001b[38;5;129;01min\u001b[39;00m tqdm([\u001b[38;5;241m0\u001b[39m, \u001b[38;5;241m2000\u001b[39m, \u001b[38;5;241m4000\u001b[39m]):\n\u001b[0;32m      2\u001b[0m     x, y, z, lFwd, lBwd \u001b[38;5;241m=\u001b[39m fsc\u001b[38;5;241m.\u001b[39mflt\u001b[38;5;241m.\u001b[39mpoincareInPhiPlanes(\n\u001b[0;32m      3\u001b[0m         startPoints,\n\u001b[0;32m      4\u001b[0m         field \u001b[38;5;241m+\u001b[39m current \u001b[38;5;241m*\u001b[39m perturbation,\n\u001b[1;32m   (...)\u001b[0m\n\u001b[0;32m      8\u001b[0m         grid \u001b[38;5;241m=\u001b[39m grid\n\u001b[0;32m      9\u001b[0m     )\n\u001b[1;32m---> 11\u001b[0m     \u001b[43mplt\u001b[49m\u001b[38;5;241m.\u001b[39mfigure()\n\u001b[0;32m     12\u001b[0m     plt\u001b[38;5;241m.\u001b[39mtitle(\u001b[38;5;124m\"\u001b[39m\u001b[38;5;124mI = \u001b[39m\u001b[38;5;132;01m{}\u001b[39;00m\u001b[38;5;124mA\u001b[39m\u001b[38;5;124m\"\u001b[39m\u001b[38;5;241m.\u001b[39mformat(current))\n\u001b[0;32m     13\u001b[0m     plt\u001b[38;5;241m.\u001b[39mscatter(x, z)\n",
      "\u001b[1;31mNameError\u001b[0m: name 'plt' is not defined"
     ]
    }
   ],
   "source": [
    "for current in tqdm([0, 2000, 4000]):\n",
    "    x, y, z, lFwd, lBwd = fsc.flt.poincareInPhiPlanes(\n",
    "        startPoints,\n",
    "        field + current * perturbation,\n",
    "        [0],\n",
    "        200,\n",
    "        distanceLimit = 1e4,\n",
    "        grid = grid\n",
    "    )\n",
    "    \n",
    "    plt.figure()\n",
    "    plt.title(\"I = {}A\".format(current))\n",
    "    plt.scatter(x, z)\n",
    "    plt.show()"
   ]
  },
  {
   "cell_type": "code",
   "execution_count": null,
   "id": "37916458-2db1-42f9-8fd6-b9a3cea52ec4",
   "metadata": {},
   "outputs": [],
   "source": []
  }
 ],
 "metadata": {
  "kernelspec": {
   "display_name": "Python 3 (ipykernel)",
   "language": "python",
   "name": "python3"
  },
  "language_info": {
   "codemirror_mode": {
    "name": "ipython",
    "version": 3
   },
   "file_extension": ".py",
   "mimetype": "text/x-python",
   "name": "python",
   "nbconvert_exporter": "python",
   "pygments_lexer": "ipython3",
   "version": "3.10.4"
  }
 },
 "nbformat": 4,
 "nbformat_minor": 5
}
