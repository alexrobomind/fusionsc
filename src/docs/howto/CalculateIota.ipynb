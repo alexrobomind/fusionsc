{
 "cells": [
  {
   "cell_type": "markdown",
   "id": "3b69c16f-99f0-442b-acfb-2f5918b66dee",
   "metadata": {},
   "source": [
    "Iota Calculation, Fourier Surface Extraction, and Perturbations (Wendelstein 7-X)\n",
    "=================================================================================\n",
    "\n",
    "This example shows how to calculate the rotational transform for Wendelstein 7-X. "
   ]
  },
  {
   "cell_type": "code",
   "execution_count": 1,
   "id": "82127547-522d-4fe8-8bc4-3d904ffd7389",
   "metadata": {},
   "outputs": [],
   "source": [
    "import fusionsc as fsc\n",
    "from fusionsc.devices import w7x\n",
    "import numpy as np\n",
    "import matplotlib.pyplot as plt"
   ]
  },
  {
   "cell_type": "code",
   "execution_count": 2,
   "id": "7228ab41-d475-4174-962c-fa678cf708d7",
   "metadata": {},
   "outputs": [
    {
     "data": {
      "text/plain": [
       "<module 'fusionsc.flt' from 'C:\\\\Daten\\\\repos\\\\fsc\\\\src\\\\python\\\\fusionsc\\\\flt.py'>"
      ]
     },
     "execution_count": 2,
     "metadata": {},
     "output_type": "execute_result"
    }
   ],
   "source": [
    "import importlib\n",
    "importlib.reload(fsc.magnetics)\n",
    "importlib.reload(fsc.flt)"
   ]
  },
  {
   "cell_type": "markdown",
   "id": "781bd737-6f8e-4543-a7f9-e5ba1c2bdeb7",
   "metadata": {},
   "source": [
    "First, we need to perform some setup to make sure W7-X data are available.\n",
    "\n",
    "Note: The W7-X geometry is currently protected by the W7-X data access agreement. Therefore, the file referenced below is available to W7-X team members (including external collaborators who signed this agreement) upon request."
   ]
  },
  {
   "cell_type": "code",
   "execution_count": 3,
   "id": "c763f123-17df-4d31-94b8-b09b432e0e79",
   "metadata": {},
   "outputs": [],
   "source": [
    "fsc.resolve.importOfflineData('../../w7x-op21.fsc')"
   ]
  },
  {
   "cell_type": "markdown",
   "id": "290cdac2-5741-4c5e-b077-862f1fc476ec",
   "metadata": {},
   "source": [
    "Now we need to setup the geometry and magnetic field configuration. To speed up the magnetic field calculation, we use a slightly coarser grid."
   ]
  },
  {
   "cell_type": "code",
   "execution_count": 4,
   "id": "d2da4e67-33c8-4cb5-9130-029d1a907a8c",
   "metadata": {},
   "outputs": [
    {
     "name": "stderr",
     "output_type": "stream",
     "text": [
      "C:\\Daten\\repos\\fsc\\src\\python\\fusionsc\\wrappers.py:144: UserWarning: The function fusionsc.devices.w7x.defaultGrid is part of the unstable API. It might change or get removed in the near future. While unlikely, it might also not be compatible across client/server versions.\n",
      "  warnings.warn(f\"The function {f.__module__}.{f.__qualname__} is part of the unstable API. It might change or get removed in the near future. While unlikely, it might also not be compatible across client/server versions.\")\n"
     ]
    }
   ],
   "source": [
    "field = w7x.standard()\n",
    "\n",
    "grid = w7x.defaultGrid()\n",
    "grid.nR = 32\n",
    "grid.nZ = 32\n",
    "grid.nPhi = 32\n",
    "\n",
    "field = field.compute(grid)\n",
    "await field"
   ]
  },
  {
   "cell_type": "markdown",
   "id": "35876c54-efec-4678-93ac-ecaf36e24763",
   "metadata": {},
   "source": [
    "Finally, we need to decide in which phi planes we want to evaluate our iota and start our surfaces from."
   ]
  },
  {
   "cell_type": "code",
   "execution_count": 5,
   "id": "712f1a28-0990-4a6e-a26e-fea56c858d9c",
   "metadata": {},
   "outputs": [],
   "source": [
    "xStart = np.linspace(5.65, 6.3, 30)\n",
    "yStart = 0 * xStart\n",
    "zStart = 0 * xStart"
   ]
  },
  {
   "cell_type": "markdown",
   "id": "86b8ff07-fd3f-4856-a15e-8937a66a322e",
   "metadata": {},
   "source": [
    "Now it's time to run our calculation."
   ]
  },
  {
   "cell_type": "code",
   "execution_count": 6,
   "id": "f44cc2a1-091a-47f8-bf36-a351d6d2ab58",
   "metadata": {},
   "outputs": [],
   "source": [
    "iotas = fsc.flt.calculateIota(\n",
    "    field, [xStart, yStart, zStart],\n",
    "    200, # Turn count\n",
    "    unwrapEvery = 10, distanceLimit = 1e4, \n",
    "    targetError = 1e-3, minStepSize = 1e-3\n",
    ")"
   ]
  },
  {
   "cell_type": "markdown",
   "id": "d362f88a-4e41-49e3-bea0-f290b7141480",
   "metadata": {},
   "source": [
    "The iota profile is returned in a shape matching the start point shape, and can be easily plotted."
   ]
  },
  {
   "cell_type": "code",
   "execution_count": 7,
   "id": "a998defb-1bb1-48d8-9b48-8eb8576b4bf2",
   "metadata": {},
   "outputs": [
    {
     "data": {
      "text/plain": [
       "[<matplotlib.lines.Line2D at 0x18e85914430>]"
      ]
     },
     "execution_count": 7,
     "metadata": {},
     "output_type": "execute_result"
    },
    {
     "data": {
      "image/png": "[encoded data removed]",
      "text/plain": [
       "<Figure size 432x288 with 1 Axes>"
      ]
     },
     "metadata": {
      "needs_background": "light"
     },
     "output_type": "display_data"
    }
   ],
   "source": [
    "plt.plot(xStart, iotas)"
   ]
  },
  {
   "cell_type": "markdown",
   "id": "87cf2323-0fe6-4d72-85a4-462383cafff1",
   "metadata": {},
   "source": [
    "Additionally, the field line tracer can also extract the Fourier decomposition of the magnetic surfaces from the field line. "
   ]
  },
  {
   "cell_type": "code",
   "execution_count": null,
   "id": "6e8b0662-b96d-4cae-961d-1ffb854f01f7",
   "metadata": {},
   "outputs": [],
   "source": [
    "modes = fsc.flt.calculateFourierModes(\n",
    "    field, [xStart, yStart, zStart],\n",
    "    200, # Turn count\n",
    "    nMax = 5, mMax = 5, toroidalSymmetry = 5,\n",
    "    unwrapEvery = 10, recordEvery = 10,\n",
    "    targetError = 1e-3, distanceLimit = 1e5,\n",
    "    stellaratorSymmetric = True\n",
    ")"
   ]
  },
  {
   "cell_type": "markdown",
   "id": "99f942b9-c9ad-4bc6-8ffc-43bf7280c691",
   "metadata": {},
   "source": [
    "The modes are returned with a dict containing rotational transform and the Fourier expansion of the modes, as well as an encoding of the result as a FourierSurfaces object that can also be used in VMEC inputs."
   ]
  },
  {
   "cell_type": "code",
   "execution_count": null,
   "id": "76a01e84-c02e-41d2-9476-6ed1f0e3321c",
   "metadata": {},
   "outputs": [],
   "source": [
    "modes.keys()"
   ]
  },
  {
   "cell_type": "markdown",
   "id": "5b3de0e0-b640-46d3-99c4-5c54f63b7a25",
   "metadata": {},
   "source": [
    "Of particular interest are two components: The first one is the 'iota' array, which returns the rotational transforms."
   ]
  },
  {
   "cell_type": "code",
   "execution_count": null,
   "id": "92670c78-fe89-46dc-ac8a-089e27310362",
   "metadata": {},
   "outputs": [],
   "source": [
    "modes[\"iota\"]"
   ]
  },
  {
   "cell_type": "markdown",
   "id": "9eedb0dd-2a1b-4928-9ec8-84ffae0598ce",
   "metadata": {},
   "source": [
    "Secondarily relevant is the 'surfaces' element, which contains the magnetic surfaces. This is an instance of the class fusionsc.magnetics.SurfaceArray, which can be sliced, added, and multiplied similar to a regular NumPy array."
   ]
  },
  {
   "cell_type": "code",
   "execution_count": null,
   "id": "493b802f-931e-470d-bde3-cf29f7c12673",
   "metadata": {},
   "outputs": [],
   "source": [
    "surfaces = modes[\"surfaces\"]\n",
    "\n",
    "print(type(surfaces))\n",
    "print(\"First:\\n\", surfaces[0])\n",
    "print(\"Last:\\n\", surfaces[-1])\n",
    "print(\"Average:\\n\", (surfaces[0] + surfaces[-1]) / 2)"
   ]
  },
  {
   "cell_type": "code",
   "execution_count": null,
   "id": "27fcdfba-cd7e-478b-9bf9-7f6928eae55d",
   "metadata": {},
   "outputs": [],
   "source": [
    "modes[\"theta\"]"
   ]
  },
  {
   "cell_type": "markdown",
   "id": "f9d292cf-cf24-4bb1-adcb-858c665a497b",
   "metadata": {},
   "source": [
    "To plot the modes, we need to multiply the Fourier coefficients with the appropriate angles."
   ]
  },
  {
   "cell_type": "code",
   "execution_count": null,
   "id": "23abb388-feaa-4765-b08f-3b3b8d5297a4",
   "metadata": {},
   "outputs": [],
   "source": [
    "iSurf = 0\n",
    "thetas = np.linspace(0, 2 * np.pi, 100)\n",
    "phis = np.linspace(0, 2 * np.pi / 10, 3)\n",
    "\n",
    "data = surfaces.evaluate(phis, thetas) # Surfaces -5, -4, -3 are rational and failed to reconstruct\n",
    "\n",
    "print(data['points'].shape)\n",
    "\n",
    "for iPhi in range(len(phis)):\n",
    "    plt.figure()\n",
    "    for iSurf in range(0, min(data['points'].shape[1], 10)):\n",
    "        dp = 1\n",
    "        x, y, z = data['points'][:,iSurf,iPhi,::dp]\n",
    "        dx, dy, dz = data['thetaDerivatives'][:,iSurf,iPhi,::dp]\n",
    "        \n",
    "        r = np.sqrt(x**2 + y**2)\n",
    "        \n",
    "        dr = (dx * x + dy * y) / r\n",
    "        \n",
    "        \n",
    "        plt.plot(r, z)\n",
    "        #plt.quiver(r, z, dr, dz)\n",
    "    plt.axis('equal')\n",
    "    plt.xlim(4, 7)\n",
    "    plt.ylim(-1.5, 1.5)\n",
    "plt.show()\n",
    "\"\"\"\n",
    "for iPhi in range(len(phis)):\n",
    "    plt.figure()\n",
    "    for iSurf in range(0, data['points'].shape[1]):\n",
    "        dp = 5\n",
    "        x, y, z = data['points'][:,iSurf,iPhi,::dp]\n",
    "        dx, dy, dz = data['phiDerivatives'][:,iSurf,iPhi,::dp]\n",
    "        \n",
    "        r = np.sqrt(x**2 + y**2)\n",
    "        \n",
    "        dr = (dx * x + dy * y) / r\n",
    "        \n",
    "        \n",
    "        #plt.plot(r, z)\n",
    "        plt.quiver(x, y, dx, dy)\n",
    "    plt.axis('equal')\n",
    "    plt.xlim(-7, 7)\n",
    "    plt.ylim(-7, 7)\n",
    "plt.show()\"\"\"\n",
    "\"\""
   ]
  },
  {
   "cell_type": "markdown",
   "id": "1c6081a6-91a7-4923-88fa-02d62e30c133",
   "metadata": {},
   "source": [
    "The obtained surfaces can also be used to calculate a mode decomposition of the magnetic field"
   ]
  },
  {
   "cell_type": "code",
   "execution_count": null,
   "id": "8177fec2-879a-43d8-8f09-231a22d27598",
   "metadata": {},
   "outputs": [],
   "source": [
    "surf = surfaces[6]\n",
    "#np.asarray(surf.data.rCos)[0,0] += 0.03\n",
    "\n",
    "modes = field.calculateRadialModes(surf, field, nSym = 5, mMax = 10, nMax = 10, nTheta = 250, nPhi = 250)\n",
    "cc = modes[\"cosCoeffs\"]\n",
    "sc = modes[\"sinCoeffs\"]\n",
    "\n",
    "m = modes[\"mPol\"]\n",
    "n = modes[\"nTor\"]\n",
    "\n",
    "phi = modes[\"phi\"]\n",
    "theta = modes[\"theta\"]\n",
    "\n",
    "tot = np.sqrt(cc**2 + sc**2)\n",
    "\n",
    "plt.figure(figsize=(16,9))\n",
    "plt.imshow(modes[\"radialValues\"], origin='lower')\n",
    "plt.colorbar()\n",
    "plt.title(\"Brad / B\")\n",
    "\n",
    "plt.figure(figsize=(16,9))\n",
    "plt.imshow(tot.T, origin = \"lower\", norm = \"log\")\n",
    "#plt.xlabel(f\"n[0, {n[1]:.0f} ... {max(n):.0f}, {min(n):.0f}, ..., {n[-1]:.0f}]\")\n",
    "plt.xlabel(\"n\")\n",
    "plt.ylabel(\"m\")\n",
    "plt.xticks(range(len(n)), n)\n",
    "plt.title(\"Fourier components of Brad / B\")\n",
    "plt.colorbar()\n",
    "plt.show()\n",
    "\n",
    "print(modes[\"radialValues\"].shape)\n",
    "for i_m, mVal in enumerate(m):\n",
    "    for i_n, nVal in enumerate(n):\n",
    "        if mVal > 5: continue\n",
    "        if nVal < 0: continue\n",
    "        if nVal > 10: continue\n",
    "        print(f\"n = {nVal:.0f}, m = {mVal:.0f}, val = {tot[i_n][i_m]:.2e}\")\n"
   ]
  },
  {
   "cell_type": "code",
   "execution_count": null,
   "id": "3b43ffeb-de94-4371-b879-fce4d45caaf9",
   "metadata": {},
   "outputs": [],
   "source": []
  }
 ],
 "metadata": {
  "kernelspec": {
   "display_name": "Python 3 (ipykernel)",
   "language": "python",
   "name": "python3"
  },
  "language_info": {
   "codemirror_mode": {
    "name": "ipython",
    "version": 3
   },
   "file_extension": ".py",
   "mimetype": "text/x-python",
   "name": "python",
   "nbconvert_exporter": "python",
   "pygments_lexer": "ipython3",
   "version": "3.8.10"
  }
 },
 "nbformat": 4,
 "nbformat_minor": 5
}
