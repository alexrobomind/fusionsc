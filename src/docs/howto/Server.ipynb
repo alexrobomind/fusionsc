{
 "cells": [
  {
   "cell_type": "markdown",
   "id": "3b69c16f-99f0-442b-acfb-2f5918b66dee",
   "metadata": {},
   "source": [
    "# Creating a server\n",
    "\n",
    "## From Python\n",
    "\n",
    "This example shows how to create a server to accept new connections."
   ]
  },
  {
   "cell_type": "code",
   "execution_count": 1,
   "id": "a998defb-1bb1-48d8-9b48-8eb8576b4bf2",
   "metadata": {},
   "outputs": [],
   "source": [
    "import fusionsc as fsc"
   ]
  },
  {
   "cell_type": "markdown",
   "id": "8f06d419-683d-42eb-a040-12b8422a9186",
   "metadata": {},
   "source": [
    "Serving an object via a network connection is a two-step process.\n",
    "\n",
    "As a first step, the object to be served needs to be obtained. Generally, this is fsc.backends.localBackend(), but remote backends, e.g. obtained via fsc.remote.connect, can be served as well.\n",
    "\n",
    "The second step is then the actual serving, which is performed with the fsc.remote.serve method. Optionally, a specific port can be requested. If no port is provided, the operating system will select a free port.\n",
    "The returned object can be used to obtain the actual port, and also to drain / stop the server in the end."
   ]
  },
  {
   "cell_type": "code",
   "execution_count": 2,
   "id": "3820b053-b518-4f04-8591-8b577918ec03",
   "metadata": {},
   "outputs": [
    {
     "data": {
      "text/plain": [
       "12345"
      ]
     },
     "execution_count": 2,
     "metadata": {},
     "output_type": "execute_result"
    }
   ],
   "source": [
    "openPort = fsc.remote.serve(fsc.backends.localBackend(), port = 12345)\n",
    "openPort.getPort()"
   ]
  },
  {
   "cell_type": "code",
   "execution_count": 3,
   "id": "b9e13ba1-ce4a-4ee2-86bb-5ddf20c8c933",
   "metadata": {},
   "outputs": [],
   "source": [
    "# This method completes once there are no connections left\n",
    "openPort.drain()"
   ]
  },
  {
   "cell_type": "code",
   "execution_count": 4,
   "id": "48269b0a-83d7-4dc4-84ca-49318416bbc8",
   "metadata": {},
   "outputs": [],
   "source": [
    "# This method stops the listening\n",
    "openPort.stopListening()"
   ]
  },
  {
   "cell_type": "markdown",
   "id": "57a35732-5fdc-4dfe-94db-fb959a904614",
   "metadata": {},
   "source": [
    "## Standalone\n",
    "\n",
    "Besides| the possibility to serve a python-exposed server instance, FusionSC also comes with a stand-alone multi-\n",
    "tool executable 'fusionsc', available for both Linux and Windows. Among other things, it ships with a server that\n",
    "can be configured from a YAML configuration and is highly portable. It can be launched directly from the command line.\n",
    "\n",
    "    fusionsc server --port 12345"
   ]
  },
  {
   "cell_type": "code",
   "execution_count": null,
   "id": "7ce30b14-9bad-4cd0-bfa2-4ca42b4a9079",
   "metadata": {},
   "outputs": [],
   "source": []
  }
 ],
 "metadata": {
  "kernelspec": {
   "display_name": "Python 3 (ipykernel)",
   "language": "python",
   "name": "python3"
  },
  "language_info": {
   "codemirror_mode": {
    "name": "ipython",
    "version": 3
   },
   "file_extension": ".py",
   "mimetype": "text/x-python",
   "name": "python",
   "nbconvert_exporter": "python",
   "pygments_lexer": "ipython3",
   "version": "3.8.10"
  }
 },
 "nbformat": 4,
 "nbformat_minor": 5
}
