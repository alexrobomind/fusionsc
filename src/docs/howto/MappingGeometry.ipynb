{
 "cells": [
  {
   "cell_type": "code",
   "execution_count": 1,
   "id": "8e2f87cf-7906-4320-bb45-fad0883307d9",
   "metadata": {},
   "outputs": [],
   "source": [
    "import fusionsc as fsc\n",
    "from fusionsc.devices import w7x\n",
    "import numpy as np"
   ]
  },
  {
   "cell_type": "code",
   "execution_count": 2,
   "id": "65b61367-1e73-41df-aa8d-06d86339ac44",
   "metadata": {},
   "outputs": [],
   "source": [
    "config = w7x.standard().compute(w7x.defaultGrid())\n",
    "await config"
   ]
  },
  {
   "cell_type": "code",
   "execution_count": 19,
   "id": "01041288-9438-4283-b47e-9d3f6ba2f2bd",
   "metadata": {},
   "outputs": [],
   "source": [
    "mapping = fsc.flt.computeMapping(\n",
    "    config,\n",
    "    \n",
    "    mappingPlanes = [np.radians(36)],\n",
    "    toroidalSymmetry = 1,\n",
    "    \n",
    "    r = np.linspace(4.5, 7, 200),\n",
    "    z = np.linspace(-1.5, 1.5, 200),\n",
    "    \n",
    "    stepSize = 0.02,\n",
    "    distanceLimit = 0,\n",
    "    \n",
    "    targetError = 1e-3, errorEstimationDistance = 1e4, minStepSize = 1e-3\n",
    ")\n",
    "await mapping"
   ]
  },
  {
   "cell_type": "code",
   "execution_count": 20,
   "id": "a7dedb4d-d0e6-4b4c-ac8a-912724024efb",
   "metadata": {},
   "outputs": [],
   "source": [
    "gm = mapping.mapGeometry(w7x.divertor())\n",
    "geo = gm.getSection(0)"
   ]
  },
  {
   "cell_type": "code",
   "execution_count": 21,
   "id": "15c944e4-8d12-4ff6-a5cc-e43856798a22",
   "metadata": {},
   "outputs": [],
   "source": [
    "geo.rotate(np.radians(-90), [1,0,0]).asPyvista().plot(notebook=False)"
   ]
  },
  {
   "cell_type": "code",
   "execution_count": null,
   "id": "0905cdf2-a873-402f-bccc-39233b2e3626",
   "metadata": {},
   "outputs": [],
   "source": []
  }
 ],
 "metadata": {
  "kernelspec": {
   "display_name": "Python 3 (ipykernel)",
   "language": "python",
   "name": "python3"
  },
  "language_info": {
   "codemirror_mode": {
    "name": "ipython",
    "version": 3
   },
   "file_extension": ".py",
   "mimetype": "text/x-python",
   "name": "python",
   "nbconvert_exporter": "python",
   "pygments_lexer": "ipython3",
   "version": "3.8.10"
  }
 },
 "nbformat": 4,
 "nbformat_minor": 5
}
