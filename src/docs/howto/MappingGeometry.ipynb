{
 "cells": [
  {
   "cell_type": "code",
   "execution_count": 1,
   "id": "8e2f87cf-7906-4320-bb45-fad0883307d9",
   "metadata": {},
   "outputs": [],
   "source": [
    "import fusionsc as fsc\n",
    "from fusionsc.devices import w7x\n",
    "import numpy as np"
   ]
  },
  {
   "cell_type": "code",
   "execution_count": 2,
   "id": "65b61367-1e73-41df-aa8d-06d86339ac44",
   "metadata": {},
   "outputs": [],
   "source": [
    "config = w7x.standard().compute(w7x.defaultGrid())\n",
    "await config"
   ]
  },
  {
   "cell_type": "code",
   "execution_count": 20,
   "id": "01041288-9438-4283-b47e-9d3f6ba2f2bd",
   "metadata": {},
   "outputs": [],
   "source": [
    "mapping = fsc.flt.computeMapping(\n",
    "    config,\n",
    "    \n",
    "    mappingPlanes = [np.radians(36)],\n",
    "    toroidalSymmetry = 1,\n",
    "    \n",
    "    r = np.linspace(4.2, 7, 400),\n",
    "    z = np.linspace(-1.5, 1.5, 400),\n",
    "    \n",
    "    stepSize = 0.02, distanceLimit = 0,\n",
    "    \n",
    "    targetError = 1e-3, errorEstimationDistance = 1e4, minStepSize = 1e-3\n",
    ")\n",
    "await mapping"
   ]
  },
  {
   "cell_type": "code",
   "execution_count": 21,
   "id": "a7dedb4d-d0e6-4b4c-ac8a-912724024efb",
   "metadata": {},
   "outputs": [],
   "source": [
    "baseGeo = w7x.divertor().triangulate(maxEdgeLength = 0.03)\n",
    "gm = mapping.mapGeometry(baseGeo)\n",
    "geo = gm.getSection(0)"
   ]
  },
  {
   "cell_type": "code",
   "execution_count": 22,
   "id": "15c944e4-8d12-4ff6-a5cc-e43856798a22",
   "metadata": {},
   "outputs": [],
   "source": [
    "geo.rotate(np.radians(-90), [1,0,0]).asPyvista().plot(notebook=False)"
   ]
  },
  {
   "cell_type": "code",
   "execution_count": 32,
   "id": "c62f2a00-d3bd-46ef-95be-f0a480eb4057",
   "metadata": {},
   "outputs": [
    {
     "ename": "AttributeError",
     "evalue": "'Geometry' object has no attribute 'writePly'",
     "output_type": "error",
     "traceback": [
      "\u001b[1;31m---------------------------------------------------------------------------\u001b[0m",
      "\u001b[1;31mAttributeError\u001b[0m                            Traceback (most recent call last)",
      "\u001b[1;32m~\\AppData\\Local\\Temp/ipykernel_17640/1355291730.py\u001b[0m in \u001b[0;36m<module>\u001b[1;34m\u001b[0m\n\u001b[1;32m----> 1\u001b[1;33m \u001b[0mgeo\u001b[0m\u001b[1;33m.\u001b[0m\u001b[0mwritePly\u001b[0m\u001b[1;33m(\u001b[0m\u001b[1;34m\"view.ply\"\u001b[0m\u001b[1;33m)\u001b[0m\u001b[1;33m\u001b[0m\u001b[1;33m\u001b[0m\u001b[0m\n\u001b[0m",
      "\u001b[1;31mAttributeError\u001b[0m: 'Geometry' object has no attribute 'writePly'"
     ]
    }
   ],
   "source": [
    "geo.writePly(\"view.ply\")"
   ]
  },
  {
   "cell_type": "code",
   "execution_count": 35,
   "id": "3d0a2e52-1295-40d2-a2ce-186938a74c58",
   "metadata": {},
   "outputs": [],
   "source": [
    "geo.rotate(np.radians(-90), [1,0,0]).exportTo(\"divertor.ply\")"
   ]
  },
  {
   "cell_type": "code",
   "execution_count": null,
   "id": "4fe9550b-30c6-4699-a89c-04325b469e44",
   "metadata": {},
   "outputs": [],
   "source": []
  }
 ],
 "metadata": {
  "kernelspec": {
   "display_name": "Python 3 (ipykernel)",
   "language": "python",
   "name": "python3"
  },
  "language_info": {
   "codemirror_mode": {
    "name": "ipython",
    "version": 3
   },
   "file_extension": ".py",
   "mimetype": "text/x-python",
   "name": "python",
   "nbconvert_exporter": "python",
   "pygments_lexer": "ipython3",
   "version": "3.8.10"
  }
 },
 "nbformat": 4,
 "nbformat_minor": 5
}
