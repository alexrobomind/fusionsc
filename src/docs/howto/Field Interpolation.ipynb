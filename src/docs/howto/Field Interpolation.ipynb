{
 "cells": [
  {
   "cell_type": "markdown",
   "id": "ca6faffd-32ed-4c32-9921-e424c7a01464",
   "metadata": {},
   "source": [
    "Magnetic field interpolation (J-TEXT)\n",
    "====================================="
   ]
  },
  {
   "cell_type": "code",
   "execution_count": 1,
   "id": "7aea8032-2ea7-4cdd-9321-ddca1e3592de",
   "metadata": {},
   "outputs": [],
   "source": [
    "import fusionsc as fsc\n",
    "from fusionsc.devices import jtext\n",
    "import numpy as np\n",
    "from tqdm.auto import tqdm\n",
    "import matplotlib.pyplot as plt"
   ]
  },
  {
   "cell_type": "markdown",
   "id": "f5e454a6-c699-475a-aa7d-d57f0fa034c8",
   "metadata": {},
   "source": [
    "Here we show a simple example to evaluate the magnetic field at desired points. We use the function \"MagneticConfig.interpolateXyz\" to evaluate our field."
   ]
  },
  {
   "cell_type": "code",
   "execution_count": 2,
   "id": "b1219848-1e53-4923-b13b-ef417d749637",
   "metadata": {},
   "outputs": [
    {
     "name": "stdout",
     "output_type": "stream",
     "text": [
      "Help on AsyncMethodDescriptor in module fusionsc.magnetics:\n",
      "\n",
      "interpolateXyz(self, points, grid=None) -> Any\n",
      "                    Evaluates the magnetic field in the given coordinates. Outside the grid, the field will use the constant\n",
      "                    values (in slab coordinates) at the grid boundary.\n",
      "            \n",
      "                    Parameters:\n",
      "                            - points: A numpy-array of shape [3, ...] (at least 1D) with the points in x, y, z coordinates.\n",
      "                            - grid: An optional grid parameter required if the field is not yet computed. The grid\n",
      "                    \n",
      "                    Returns:\n",
      "                            A numpy array of shape points.shape with the field as x, y, z field.\n",
      "                    \n",
      "    *Note* Has :ref:`asynchronous variant<Asynchronous Function>` '.asnc(...)' that returns Promise[...]\n",
      "\n"
     ]
    }
   ],
   "source": [
    "help(fsc.magnetics.MagneticConfig.interpolateXyz)"
   ]
  },
  {
   "cell_type": "code",
   "execution_count": 3,
   "id": "222191e1-bb47-4c83-8bb3-bff1f24ffdb6",
   "metadata": {},
   "outputs": [],
   "source": [
    "efitExample = jtext.exampleGeqdsk()\n",
    "field = fsc.magnetics.MagneticConfig.fromEFit(efitExample).compute(jtext.defaultGrid())"
   ]
  },
  {
   "cell_type": "code",
   "execution_count": 4,
   "id": "bfa4a0a1-82cf-46cc-9ad1-023ffe11febb",
   "metadata": {},
   "outputs": [
    {
     "data": {
      "text/plain": [
       "<matplotlib.colorbar.Colorbar at 0x1abe621a7d0>"
      ]
     },
     "execution_count": 4,
     "metadata": {},
     "output_type": "execute_result"
    },
    {
     "data": {
      "image/png": "[encoded data removed]",
      "text/plain": [
       "<Figure size 432x288 with 2 Axes>"
      ]
     },
     "metadata": {
      "needs_background": "light"
     },
     "output_type": "display_data"
    }
   ],
   "source": [
    "r, z = np.random.multivariate_normal(\n",
    "    mean = [1.1, 0], cov = [[0.01, 0], [0, 0.01]],\n",
    "    size = 50\n",
    ").T\n",
    "\n",
    "x = r\n",
    "y = 0 * r\n",
    "\n",
    "Bx, By, Bz = field.interpolateXyz([x, y, z])\n",
    "\n",
    "plt.quiver(r, z, Bx, Bz, By)\n",
    "plt.colorbar(label = \"$B_T$\")"
   ]
  },
  {
   "cell_type": "code",
   "execution_count": null,
   "id": "e45c70a7-5020-4877-89be-b19b1152aa3c",
   "metadata": {},
   "outputs": [],
   "source": []
  }
 ],
 "metadata": {
  "kernelspec": {
   "display_name": "Python 3 (ipykernel)",
   "language": "python",
   "name": "python3"
  },
  "language_info": {
   "codemirror_mode": {
    "name": "ipython",
    "version": 3
   },
   "file_extension": ".py",
   "mimetype": "text/x-python",
   "name": "python",
   "nbconvert_exporter": "python",
   "pygments_lexer": "ipython3",
   "version": "3.10.4"
  }
 },
 "nbformat": 4,
 "nbformat_minor": 5
}
