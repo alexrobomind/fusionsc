{
 "cells": [
  {
   "cell_type": "markdown",
   "id": "3b69c16f-99f0-442b-acfb-2f5918b66dee",
   "metadata": {},
   "source": [
    "Iota Calculation (Wendelstein 7-X)\n",
    "==================================\n",
    "\n",
    "This example shows how to calculate the rotational transform for Wendelstein 7-X. "
   ]
  },
  {
   "cell_type": "code",
   "execution_count": 1,
   "id": "82127547-522d-4fe8-8bc4-3d904ffd7389",
   "metadata": {},
   "outputs": [],
   "source": [
    "import fusionsc as fsc\n",
    "from fusionsc.devices import w7x"
   ]
  },
  {
   "cell_type": "markdown",
   "id": "781bd737-6f8e-4543-a7f9-e5ba1c2bdeb7",
   "metadata": {},
   "source": [
    "First, we need to perform some setup to make sure W7-X data are available.\n",
    "\n",
    "Note: The W7-X geometry is currently protected by the W7-X data access agreement. Therefore, the file referenced below is available to W7-X team members (including external collaborators who signed this agreement) upon request."
   ]
  },
  {
   "cell_type": "code",
   "execution_count": 2,
   "id": "c763f123-17df-4d31-94b8-b09b432e0e79",
   "metadata": {},
   "outputs": [],
   "source": [
    "fsc.resolve.importOfflineData('../../w7x-op21.fsc')"
   ]
  },
  {
   "cell_type": "markdown",
   "id": "290cdac2-5741-4c5e-b077-862f1fc476ec",
   "metadata": {},
   "source": [
    "Now we need to setup the geometry and magnetic field configuration. To speed up the magnetic field calculation, we use a slightly coarser grid."
   ]
  },
  {
   "cell_type": "code",
   "execution_count": 3,
   "id": "d2da4e67-33c8-4cb5-9130-029d1a907a8c",
   "metadata": {},
   "outputs": [],
   "source": [
    "field = w7x.standard()\n",
    "\n",
    "grid = w7x.defaultGrid()\n",
    "grid.nR = 128\n",
    "grid.nZ = 128\n",
    "grid.nPhi = 32\n",
    "\n",
    "field = field.compute(grid)\n",
    "await field"
   ]
  },
  {
   "cell_type": "markdown",
   "id": "35876c54-efec-4678-93ac-ecaf36e24763",
   "metadata": {},
   "source": [
    "Finally, we need to decide in which phi planes we want to evaluate our Poincare plots, and which points to start our traces on."
   ]
  },
  {
   "cell_type": "code",
   "execution_count": 23,
   "id": "712f1a28-0990-4a6e-a26e-fea56c858d9c",
   "metadata": {},
   "outputs": [],
   "source": [
    "import numpy as np\n",
    "xStart = np.linspace(-4.5, -6.5, 30)\n",
    "yStart = 0 * xStart\n",
    "zStart = 0 * xStart"
   ]
  },
  {
   "cell_type": "markdown",
   "id": "86b8ff07-fd3f-4856-a15e-8937a66a322e",
   "metadata": {},
   "source": [
    "Now it's time to run our calculation."
   ]
  },
  {
   "cell_type": "code",
   "execution_count": 24,
   "id": "f44cc2a1-091a-47f8-bf36-a351d6d2ab58",
   "metadata": {},
   "outputs": [],
   "source": [
    "iotas = fsc.flt.calculateIota(field, [xStart, yStart, zStart], targetError = 1e-3, minStepSize = 0.001, unwrapEvery = 1, distanceLimit = 1e4)"
   ]
  },
  {
   "cell_type": "code",
   "execution_count": 25,
   "id": "fef36b9d-c238-4ef5-87c2-f79d52483771",
   "metadata": {},
   "outputs": [
    {
     "data": {
      "text/plain": [
       "(30,)"
      ]
     },
     "execution_count": 25,
     "metadata": {},
     "output_type": "execute_result"
    }
   ],
   "source": [
    "# Shape is [5, nPlanes] + startsPoints.shape[1:] + [nTurns]\n",
    "iotas.shape"
   ]
  },
  {
   "cell_type": "code",
   "execution_count": 26,
   "id": "a998defb-1bb1-48d8-9b48-8eb8576b4bf2",
   "metadata": {},
   "outputs": [
    {
     "data": {
      "text/plain": [
       "[<matplotlib.lines.Line2D at 0x296580b5f40>]"
      ]
     },
     "execution_count": 26,
     "metadata": {},
     "output_type": "execute_result"
    },
    {
     "data": {
      "image/png": "[encoded data removed]",
      "text/plain": [
       "<Figure size 432x288 with 1 Axes>"
      ]
     },
     "metadata": {
      "needs_background": "light"
     },
     "output_type": "display_data"
    }
   ],
   "source": [
    "import matplotlib.pyplot as plt\n",
    "plt.plot(xStart, iotas)"
   ]
  },
  {
   "cell_type": "code",
   "execution_count": null,
   "id": "ff595f38-6962-43c9-a986-9aace8435c63",
   "metadata": {},
   "outputs": [],
   "source": []
  }
 ],
 "metadata": {
  "kernelspec": {
   "display_name": "Python 3 (ipykernel)",
   "language": "python",
   "name": "python3"
  },
  "language_info": {
   "codemirror_mode": {
    "name": "ipython",
    "version": 3
   },
   "file_extension": ".py",
   "mimetype": "text/x-python",
   "name": "python",
   "nbconvert_exporter": "python",
   "pygments_lexer": "ipython3",
   "version": "3.8.10"
  }
 },
 "nbformat": 4,
 "nbformat_minor": 5
}
