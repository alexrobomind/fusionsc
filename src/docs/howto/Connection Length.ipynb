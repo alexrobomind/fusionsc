{
 "cells": [
  {
   "cell_type": "markdown",
   "id": "3b69c16f-99f0-442b-acfb-2f5918b66dee",
   "metadata": {
    "tags": []
   },
   "source": [
    "Connection length plots (Wendelstein 7-X)\n",
    "================================\n",
    "\n",
    "This example shows how to create connection-length plots for Wendelstein 7-X. First, we need to perform some setup to make sure W7-X data are available."
   ]
  },
  {
   "cell_type": "code",
   "execution_count": 1,
   "id": "82127547-522d-4fe8-8bc4-3d904ffd7389",
   "metadata": {
    "tags": []
   },
   "outputs": [],
   "source": [
    "import fusionsc as fsc\n",
    "from fusionsc.devices import w7x"
   ]
  },
  {
   "cell_type": "code",
   "execution_count": 2,
   "id": "c763f123-17df-4d31-94b8-b09b432e0e79",
   "metadata": {
    "tags": []
   },
   "outputs": [],
   "source": [
    "fsc.resolve.importOfflineData('../../w7x-op21.fsc')"
   ]
  },
  {
   "cell_type": "markdown",
   "id": "290cdac2-5741-4c5e-b077-862f1fc476ec",
   "metadata": {},
   "source": [
    "Now we need to setup the geometry and magnetic field configuration."
   ]
  },
  {
   "cell_type": "code",
   "execution_count": 3,
   "id": "d2da4e67-33c8-4cb5-9130-029d1a907a8c",
   "metadata": {
    "tags": []
   },
   "outputs": [],
   "source": [
    "field = w7x.standard()\n",
    "geometry = w7x.op21Geometry()\n",
    "\n",
    "grid = w7x.defaultGrid()"
   ]
  },
  {
   "cell_type": "markdown",
   "id": "8c34fbe4-4f4e-45e1-a54f-33b414ac4623",
   "metadata": {},
   "source": [
    "Now, we need to define the points on which we want to calculate the connection length"
   ]
  },
  {
   "cell_type": "code",
   "execution_count": 4,
   "id": "0ff916e4-3132-45a5-9ae3-90635d1af877",
   "metadata": {
    "tags": []
   },
   "outputs": [],
   "source": [
    "import numpy as np\n",
    "rRange = np.linspace(6.0, 6.5, 40)\n",
    "zRange = np.linspace(-0.3, -0.1, 40)\n",
    "\n",
    "rStart, zStart = np.meshgrid(rRange, zRange, indexing = 'ij')\n",
    "phi = np.radians(200.8)\n",
    "\n",
    "xStart = np.cos(phi) * rStart\n",
    "yStart = np.sin(phi) * rStart\n",
    "startPoints = [xStart, yStart, zStart]"
   ]
  },
  {
   "cell_type": "markdown",
   "id": "35876c54-efec-4678-93ac-ecaf36e24763",
   "metadata": {},
   "source": [
    "Before running the calculation, I would like to show a little trick that is good for speedups. In the Poincare example, we passed the grids directly to the trace function, so that it computes fields and indexed geometries by itself. If we trace repeatedly, this is inefficient. So this time, we will ahead of time request the computation and reference its result."
   ]
  },
  {
   "cell_type": "code",
   "execution_count": 5,
   "id": "712f1a28-0990-4a6e-a26e-fea56c858d9c",
   "metadata": {
    "tags": []
   },
   "outputs": [],
   "source": [
    "field = field.compute(grid)\n",
    "geometry = geometry.index(w7x.defaultGeometryGrid())"
   ]
  },
  {
   "cell_type": "markdown",
   "id": "86b8ff07-fd3f-4856-a15e-8937a66a322e",
   "metadata": {},
   "source": [
    "Now it's time to run our calculation. Since we already computed field and geometry, the grids are no longer required. For connection length plots, we simply limit the number of collisions to 1 and inspect the field line length."
   ]
  },
  {
   "cell_type": "code",
   "execution_count": 6,
   "id": "1e774b2b-e058-408c-8a68-d27cbeaedb72",
   "metadata": {
    "tags": []
   },
   "outputs": [],
   "source": [
    "conLength = fsc.flt.connectionLength(\n",
    "    startPoints, field, geometry,\n",
    "    distanceLimit = 3e2\n",
    ")"
   ]
  },
  {
   "cell_type": "code",
   "execution_count": 7,
   "id": "fef36b9d-c238-4ef5-87c2-f79d52483771",
   "metadata": {},
   "outputs": [
    {
     "data": {
      "text/plain": [
       "(40, 40)"
      ]
     },
     "execution_count": 7,
     "metadata": {},
     "output_type": "execute_result"
    }
   ],
   "source": [
    "# Shape is startsPoints.shape[1:]\n",
    "conLength.shape"
   ]
  },
  {
   "cell_type": "code",
   "execution_count": 8,
   "id": "02522f64-449d-441b-8d81-4114b44fe6b1",
   "metadata": {},
   "outputs": [
    {
     "data": {
      "text/plain": [
       "(-0.5, 0.0)"
      ]
     },
     "execution_count": 8,
     "metadata": {},
     "output_type": "execute_result"
    },
    {
     "data": {
      "image/png": "[encoded data removed]",
      "text/plain": [
       "<Figure size 864x648 with 2 Axes>"
      ]
     },
     "metadata": {
      "needs_background": "light"
     },
     "output_type": "display_data"
    }
   ],
   "source": [
    "import matplotlib.pyplot as plt\n",
    "import matplotlib\n",
    "\n",
    "matplotlib.rcParams.update({'font.size': 22})\n",
    "plt.figure(figsize = (12, 9))\n",
    "plt.imshow(conLength.T, origin = 'lower', extent = [rRange[0], rRange[-1], zRange[0], zRange[-1]], norm = matplotlib.colors.LogNorm())\n",
    "plt.colorbar()\n",
    "geometry.plotCut(phi, edgecolors = 'k')\n",
    "plt.axis('equal')\n",
    "plt.xlim(6.0, 6.5)\n",
    "plt.ylim(-0.5, 0)"
   ]
  }
 ],
 "metadata": {
  "kernelspec": {
   "display_name": "Python 3 (ipykernel)",
   "language": "python",
   "name": "python3"
  },
  "language_info": {
   "codemirror_mode": {
    "name": "ipython",
    "version": 3
   },
   "file_extension": ".py",
   "mimetype": "text/x-python",
   "name": "python",
   "nbconvert_exporter": "python",
   "pygments_lexer": "ipython3",
   "version": "3.10.4"
  }
 },
 "nbformat": 4,
 "nbformat_minor": 5
}
