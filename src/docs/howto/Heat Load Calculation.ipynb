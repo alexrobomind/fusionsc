{
 "cells": [
  {
   "cell_type": "markdown",
   "id": "b54784e9-53bd-4fb0-b830-5f1ee45a1bce",
   "metadata": {
    "tags": []
   },
   "source": [
    "Heat load calculation (Wendelstein 7-X)\n",
    "================================\n",
    "\n",
    "This example shows how to create heat-load distribution plots for Wendelstein 7-X. First, we need to perform some setup to make sure W7-X data are available."
   ]
  },
  {
   "cell_type": "code",
   "execution_count": 5,
   "id": "1abf3ebd-e7c5-4c0e-a618-3e592afc1c81",
   "metadata": {},
   "outputs": [],
   "source": [
    "import fusionsc as fsc\n",
    "from fusionsc.devices import w7x\n",
    "import numpy as np\n",
    "import matplotlib.pyplot as plt"
   ]
  },
  {
   "cell_type": "markdown",
   "id": "9c1f2e57-02a0-421d-8e93-1cf49c97a4c4",
   "metadata": {},
   "source": [
    "Now we need to setup the geometry and magnetic field configuration."
   ]
  },
  {
   "cell_type": "code",
   "execution_count": 2,
   "id": "5aede981-0521-4be5-8b17-b271eff73221",
   "metadata": {},
   "outputs": [],
   "source": [
    "field = w7x.standard()\n",
    "geometry = w7x.op21Geometry().triangulate(0.03)\n",
    "\n",
    "grid = w7x.defaultGrid()\n",
    "grid.nR = 128\n",
    "grid.nZ = 128\n",
    "grid.nPhi = 32"
   ]
  },
  {
   "cell_type": "code",
   "execution_count": 6,
   "id": "b69b105a-b3f7-4f4e-ac6f-ae8ac44bc671",
   "metadata": {},
   "outputs": [],
   "source": [
    "geo = w7x.op21Geometry().triangulate(0.03)\n",
    "await geo"
   ]
  },
  {
   "cell_type": "code",
   "execution_count": 8,
   "id": "cb4d169b-0948-448b-86d9-6e8516144c6d",
   "metadata": {},
   "outputs": [],
   "source": [
    "m = geo.getMerged()"
   ]
  },
  {
   "cell_type": "code",
   "execution_count": 11,
   "id": "7d21cda5-47a5-4bab-89f9-cace69ad1845",
   "metadata": {},
   "outputs": [
    {
     "data": {
      "text/plain": [
       "3596124448"
      ]
     },
     "execution_count": 11,
     "metadata": {},
     "output_type": "execute_result"
    }
   ],
   "source": [
    "m.totalBytes_()"
   ]
  },
  {
   "cell_type": "code",
   "execution_count": 3,
   "id": "22f77631-0792-467a-b9ca-59a70c9bd49e",
   "metadata": {},
   "outputs": [],
   "source": [
    "field = field.compute(grid)\n",
    "geometry = geometry.index(w7x.defaultGeometryGrid())\n",
    "\n",
    "await field\n",
    "await geometry"
   ]
  },
  {
   "cell_type": "markdown",
   "id": "aef855d6-1dff-4530-bbe7-283c2e9308e0",
   "metadata": {},
   "source": [
    "The tracing calculations underlying the anisotropic diffusion process are very expensive and dominate the computation time. To reduce them, we can pre-compute a global mapping of the field lines, which reduces field line tracing to a series of interpolations. Here, we use the triangular planes of W7-X, where both the plasma core and the islands have favorable aspect ratios, as our remapping planes."
   ]
  },
  {
   "cell_type": "code",
   "execution_count": 4,
   "id": "f76ffc34-dcf1-4549-9f7a-3128d603f654",
   "metadata": {},
   "outputs": [
    {
     "ename": "DisconnectError",
     "evalue": "remote exception: connect(): Connection refused",
     "output_type": "error",
     "traceback": [
      "\u001b[1;31m---------------------------------------------------------------------------\u001b[0m",
      "\u001b[1;31mDisconnectError\u001b[0m                           Traceback (most recent call last)",
      "Cell \u001b[1;32mIn[4], line 11\u001b[0m\n\u001b[0;32m      1\u001b[0m mapping \u001b[38;5;241m=\u001b[39m fsc\u001b[38;5;241m.\u001b[39mflt\u001b[38;5;241m.\u001b[39mcomputeMapping(\n\u001b[0;32m      2\u001b[0m     field,\n\u001b[0;32m      3\u001b[0m     np\u001b[38;5;241m.\u001b[39mradians([\u001b[38;5;241m72\u001b[39m]), \u001b[38;5;66;03m# Mapping planes\u001b[39;00m\n\u001b[1;32m   (...)\u001b[0m\n\u001b[0;32m      9\u001b[0m     toroidalSymmetry \u001b[38;5;241m=\u001b[39m \u001b[38;5;241m5\u001b[39m\n\u001b[0;32m     10\u001b[0m )\n\u001b[1;32m---> 11\u001b[0m \u001b[38;5;28;01mawait\u001b[39;00m mapping\n",
      "File \u001b[1;32m~\\AppData\\Local\\Programs\\Python\\Python310\\lib\\asyncio\\tasks.py:304\u001b[0m, in \u001b[0;36mTask.__wakeup\u001b[1;34m(self, future)\u001b[0m\n\u001b[0;32m    302\u001b[0m \u001b[38;5;28;01mdef\u001b[39;00m \u001b[38;5;21m__wakeup\u001b[39m(\u001b[38;5;28mself\u001b[39m, future):\n\u001b[0;32m    303\u001b[0m     \u001b[38;5;28;01mtry\u001b[39;00m:\n\u001b[1;32m--> 304\u001b[0m         \u001b[43mfuture\u001b[49m\u001b[38;5;241;43m.\u001b[39;49m\u001b[43mresult\u001b[49m\u001b[43m(\u001b[49m\u001b[43m)\u001b[49m\n\u001b[0;32m    305\u001b[0m     \u001b[38;5;28;01mexcept\u001b[39;00m \u001b[38;5;167;01mBaseException\u001b[39;00m \u001b[38;5;28;01mas\u001b[39;00m exc:\n\u001b[0;32m    306\u001b[0m         \u001b[38;5;66;03m# This may also be a cancellation.\u001b[39;00m\n\u001b[0;32m    307\u001b[0m         \u001b[38;5;28mself\u001b[39m\u001b[38;5;241m.\u001b[39m__step(exc)\n",
      "\u001b[1;31mDisconnectError\u001b[0m: remote exception: connect(): Connection refused"
     ]
    }
   ],
   "source": [
    "mapping = fsc.flt.computeMapping(\n",
    "    field,\n",
    "    np.radians([72]), # Mapping planes\n",
    "    r = np.linspace(4, 7, 200), # R values for mapping grid\n",
    "    z = np.linspace(-1.5, 1.5, 200), # Z values for mapping grid\n",
    "    stepSize = 0.01, # Step size for tracing computation\n",
    "    targetError = 1e-3, errorEstimationDistance = 1e4, minStepSize = 1e-3,\n",
    "    distanceLimit = 7 * 2 * np.pi / 8, # Distance limit for tracing computation (no field line needed to be longer than 1/10th of device)\n",
    "    toroidalSymmetry = 5\n",
    ")\n",
    "await mapping"
   ]
  },
  {
   "cell_type": "markdown",
   "id": "3e9cf1b6-f56a-43e8-b65d-9de48430d31d",
   "metadata": {},
   "source": [
    "From now on, we can accelerate all computations with the mapping by passing it as an additional argument.\n",
    "Before we can run the calculation, we need to determine the seeding points for it. Our strategy here is to find the LCFS, then move a bit inward."
   ]
  },
  {
   "cell_type": "code",
   "execution_count": 5,
   "id": "5c2f7b4b-82eb-40ca-b3ee-2e8c077ecf3b",
   "metadata": {},
   "outputs": [],
   "source": [
    "await mapping"
   ]
  },
  {
   "cell_type": "code",
   "execution_count": 8,
   "id": "820bc859-caba-4d74-932e-bd11e8f1f24c",
   "metadata": {},
   "outputs": [
    {
     "ename": "RuntimeError",
     "evalue": "(remote):0: failed: remote exception: No suitable backend for method was available; methodId = 5\nstack: 0 0 0 0 0 0 0",
     "output_type": "error",
     "traceback": [
      "\u001b[1;31m---------------------------------------------------------------------------\u001b[0m",
      "\u001b[1;31mRuntimeError\u001b[0m                              Traceback (most recent call last)",
      "Cell \u001b[1;32mIn[8], line 1\u001b[0m\n\u001b[1;32m----> 1\u001b[0m \u001b[38;5;28;01mawait\u001b[39;00m fsc\u001b[38;5;241m.\u001b[39mflt\u001b[38;5;241m.\u001b[39m_mapper()\n",
      "File \u001b[1;32m~\\AppData\\Local\\Programs\\Python\\Python310\\lib\\asyncio\\tasks.py:304\u001b[0m, in \u001b[0;36mTask.__wakeup\u001b[1;34m(self, future)\u001b[0m\n\u001b[0;32m    302\u001b[0m \u001b[38;5;28;01mdef\u001b[39;00m \u001b[38;5;21m__wakeup\u001b[39m(\u001b[38;5;28mself\u001b[39m, future):\n\u001b[0;32m    303\u001b[0m     \u001b[38;5;28;01mtry\u001b[39;00m:\n\u001b[1;32m--> 304\u001b[0m         \u001b[43mfuture\u001b[49m\u001b[38;5;241;43m.\u001b[39;49m\u001b[43mresult\u001b[49m\u001b[43m(\u001b[49m\u001b[43m)\u001b[49m\n\u001b[0;32m    305\u001b[0m     \u001b[38;5;28;01mexcept\u001b[39;00m \u001b[38;5;167;01mBaseException\u001b[39;00m \u001b[38;5;28;01mas\u001b[39;00m exc:\n\u001b[0;32m    306\u001b[0m         \u001b[38;5;66;03m# This may also be a cancellation.\u001b[39;00m\n\u001b[0;32m    307\u001b[0m         \u001b[38;5;28mself\u001b[39m\u001b[38;5;241m.\u001b[39m__step(exc)\n",
      "\u001b[1;31mRuntimeError\u001b[0m: (remote):0: failed: remote exception: No suitable backend for method was available; methodId = 5\nstack: 0 0 0 0 0 0 0"
     ]
    }
   ],
   "source": [
    "await fsc.flt._mapper()"
   ]
  },
  {
   "cell_type": "code",
   "execution_count": 6,
   "id": "c9e043f9-a6f0-45a7-9877-545f24d7c51f",
   "metadata": {},
   "outputs": [
    {
     "ename": "RuntimeError",
     "evalue": "C++ exception (failed) at c++\\pybindings\\kj.cpp -- line 79\nTraceback (most recent call last):\n\n  File \"C:\\Users\\Knieps\\AppData\\Local\\Programs\\Python\\Python310\\lib\\asyncio\\futures.py\", line 201, in result\n    raise self._exception\n\n  File \"C:\\Users\\Knieps\\AppData\\Local\\Programs\\Python\\Python310\\lib\\asyncio\\tasks.py\", line 234, in __step\n    result = coro.throw(exc)\n\n  File \"C:\\Users\\Knieps\\Documents\\repos\\fsc\\src\\python\\fusionsc\\flt.py\", line 40, in mapGeometry\n    response = await _mapper().mapGeometry(self.ref, resolved.data, nSym, nPhi, nU, nV)\n\n  File \"C:\\Users\\Knieps\\AppData\\Local\\Programs\\Python\\Python310\\lib\\asyncio\\tasks.py\", line 304, in __wakeup\n    future.result()\n\nRuntimeError: (remote):0: failed: remote exception: No suitable backend for method was available; methodId = 5\nstack: 0 0 0 0 0 0\n\n\nTrace: \n",
     "output_type": "error",
     "traceback": [
      "\u001b[1;31m---------------------------------------------------------------------------\u001b[0m",
      "\u001b[1;31mRuntimeError\u001b[0m                              Traceback (most recent call last)",
      "Cell \u001b[1;32mIn[6], line 1\u001b[0m\n\u001b[1;32m----> 1\u001b[0m geoMapping \u001b[38;5;241m=\u001b[39m \u001b[43mmapping\u001b[49m\u001b[38;5;241;43m.\u001b[39;49m\u001b[43mmapGeometry\u001b[49m\u001b[43m(\u001b[49m\u001b[43mgeometry\u001b[49m\u001b[43m)\u001b[49m\n",
      "File \u001b[1;32m~\\Documents\\repos\\fsc\\src\\python\\fusionsc\\asnc.py:55\u001b[0m, in \u001b[0;36mAsyncMethodDescriptor.__call__\u001b[1;34m(self, *args, **kwargs)\u001b[0m\n\u001b[0;32m     46\u001b[0m \u001b[38;5;28;01massert\u001b[39;00m canWait(), (\n\u001b[0;32m     47\u001b[0m \t\u001b[38;5;124m\"\u001b[39m\u001b[38;5;124mThe synchronous call for this function is only valid in areas where the program can safely suspend execution. Particularly, coroutines \u001b[39m\u001b[38;5;124m\"\u001b[39m\n\u001b[0;32m     48\u001b[0m \t\u001b[38;5;124m\"\u001b[39m\u001b[38;5;124mdecorated with fsc.asnc.asyncFunction or run by fsc.asnc.run(...) may not use the synchronous wrappers. Instead of calling f(...),  call \u001b[39m\u001b[38;5;124m\"\u001b[39m\n\u001b[1;32m   (...)\u001b[0m\n\u001b[0;32m     51\u001b[0m \t\u001b[38;5;124m\"\u001b[39m\u001b[38;5;124m(which gets a new stack) which can suspend synchronous-style.\u001b[39m\u001b[38;5;124m\"\u001b[39m\n\u001b[0;32m     52\u001b[0m )\n\u001b[0;32m     54\u001b[0m future \u001b[38;5;241m=\u001b[39m \u001b[38;5;28mself\u001b[39m\u001b[38;5;241m.\u001b[39masnc(\u001b[38;5;241m*\u001b[39margs, \u001b[38;5;241m*\u001b[39m\u001b[38;5;241m*\u001b[39mkwargs)\n\u001b[1;32m---> 55\u001b[0m \u001b[38;5;28;01mreturn\u001b[39;00m \u001b[43mwait\u001b[49m\u001b[43m(\u001b[49m\u001b[43mfuture\u001b[49m\u001b[43m)\u001b[49m\n",
      "File \u001b[1;32m~\\Documents\\repos\\fsc\\src\\python\\fusionsc\\asnc.py:105\u001b[0m, in \u001b[0;36mwait\u001b[1;34m(awaitable)\u001b[0m\n\u001b[0;32m     97\u001b[0m \u001b[38;5;28;01massert\u001b[39;00m hasEventLoop(), \u001b[38;5;124m\"\u001b[39m\u001b[38;5;124mAsynchronous objects can only be used in threads with an active event loop. Create one for your thread with fsc.asnc.startEventLoop()\u001b[39m\u001b[38;5;124m\"\u001b[39m\n\u001b[0;32m     98\u001b[0m \u001b[38;5;28;01massert\u001b[39;00m canWait(), (\n\u001b[0;32m     99\u001b[0m \t\u001b[38;5;124m\"\u001b[39m\u001b[38;5;124mCan not wait on promises / coroutine because the program can not safely suspend execution. Particularly, coroutines \u001b[39m\u001b[38;5;124m\"\u001b[39m\n\u001b[0;32m    100\u001b[0m \t\u001b[38;5;124m\"\u001b[39m\u001b[38;5;124mdecorated with fsc.asnc.asyncFunction or run by fsc.asnc.run(...) may not use wait(...). If you absolutely need to call the synchronous version (e.g. because you \u001b[39m\u001b[38;5;124m\"\u001b[39m\n\u001b[0;32m    101\u001b[0m \t\u001b[38;5;124m\"\u001b[39m\u001b[38;5;124mare inside a call by an external library that has doesn\u001b[39m\u001b[38;5;124m'\u001b[39m\u001b[38;5;124mt accept awaitables), then use the class fsc.asnc.FiberPool to start a new fiber \u001b[39m\u001b[38;5;124m\"\u001b[39m\n\u001b[0;32m    102\u001b[0m \t\u001b[38;5;124m\"\u001b[39m\u001b[38;5;124m(which gets a new stack) which can suspend synchronous-style.\u001b[39m\u001b[38;5;124m\"\u001b[39m\n\u001b[0;32m    103\u001b[0m )\n\u001b[1;32m--> 105\u001b[0m \u001b[38;5;28;01mreturn\u001b[39;00m \u001b[43mnativeWait\u001b[49m\u001b[43m(\u001b[49m\u001b[43mawaitable\u001b[49m\u001b[43m)\u001b[49m\n",
      "\u001b[1;31mRuntimeError\u001b[0m: C++ exception (failed) at c++\\pybindings\\kj.cpp -- line 79\nTraceback (most recent call last):\n\n  File \"C:\\Users\\Knieps\\AppData\\Local\\Programs\\Python\\Python310\\lib\\asyncio\\futures.py\", line 201, in result\n    raise self._exception\n\n  File \"C:\\Users\\Knieps\\AppData\\Local\\Programs\\Python\\Python310\\lib\\asyncio\\tasks.py\", line 234, in __step\n    result = coro.throw(exc)\n\n  File \"C:\\Users\\Knieps\\Documents\\repos\\fsc\\src\\python\\fusionsc\\flt.py\", line 40, in mapGeometry\n    response = await _mapper().mapGeometry(self.ref, resolved.data, nSym, nPhi, nU, nV)\n\n  File \"C:\\Users\\Knieps\\AppData\\Local\\Programs\\Python\\Python310\\lib\\asyncio\\tasks.py\", line 304, in __wakeup\n    future.result()\n\nRuntimeError: (remote):0: failed: remote exception: No suitable backend for method was available; methodId = 5\nstack: 0 0 0 0 0 0\n\n\nTrace: \n"
     ]
    }
   ],
   "source": [
    "geoMapping = mapping.mapGeometry(geometry)"
   ]
  },
  {
   "cell_type": "code",
   "execution_count": 6,
   "id": "5e9641c8-124e-4bfb-8efe-81c5122d3de9",
   "metadata": {},
   "outputs": [],
   "source": [
    "pInside = [5.5, 0, 0]\n",
    "pOutside = [6.5, 0, 0]\n",
    "\n",
    "lcfs = fsc.flt.findLCFS(field, geometry, pOutside, pInside, mapping = mapping)"
   ]
  },
  {
   "cell_type": "code",
   "execution_count": 7,
   "id": "f599494e-94d2-49e3-87ea-ac3f7708f044",
   "metadata": {},
   "outputs": [
    {
     "name": "stdout",
     "output_type": "stream",
     "text": [
      "[6.20675202 0.         0.        ] [6.19475202 0.         0.        ]\n"
     ]
    }
   ],
   "source": [
    "pStart = lcfs + [-0.012, 0, 0]\n",
    "print(lcfs, pStart)"
   ]
  },
  {
   "cell_type": "code",
   "execution_count": 8,
   "id": "9a0aa667-9c9d-416b-9eb9-edf0b41bfaf2",
   "metadata": {},
   "outputs": [],
   "source": [
    "startPlanes = np.linspace(0 , 2 / 5 * np.pi, 100, endpoint = False)\n",
    "nTurns = 220\n",
    "xSurf, ySurf, zSurf, _, _ = fsc.flt.poincareInPhiPlanes(pStart, field, startPlanes, nTurns, mapping = mapping, stepSize = 1)"
   ]
  },
  {
   "cell_type": "markdown",
   "id": "3916aa0e-24a1-47a4-ad5e-5bc4575862b4",
   "metadata": {},
   "source": [
    "Let's take a look at our starting surface"
   ]
  },
  {
   "cell_type": "code",
   "execution_count": 9,
   "id": "bad160b3-3aee-4b26-8f17-2ddc89198704",
   "metadata": {},
   "outputs": [
    {
     "data": {
      "text/plain": [
       "(100, 220)"
      ]
     },
     "execution_count": 9,
     "metadata": {},
     "output_type": "execute_result"
    },
    {
     "data": {
      "image/png": "[encoded data removed]",
      "text/plain": [
       "<Figure size 640x480 with 1 Axes>"
      ]
     },
     "metadata": {},
     "output_type": "display_data"
    }
   ],
   "source": [
    "rSurf = np.sqrt(xSurf**2 + ySurf**2)\n",
    "plt.scatter(rSurf[0], zSurf[0], s = 0.1)\n",
    "geometry.plotCut(startPlanes[0], color='k')\n",
    "plt.axis(\"equal\")\n",
    "xSurf.shape"
   ]
  },
  {
   "cell_type": "markdown",
   "id": "8d856033-9a37-4ee5-a415-56d06289f150",
   "metadata": {},
   "source": [
    "Since the surface looks OK we can now start to do our tracing on the nTurns * nPlanes = 220 * 100 = 22000 points we obtained. Since we want to do diffusive tracing, we enable the parallel diffusion model. Because we use field line mapping for the parallel tracing calculation, the only limitation for our step size is how much we will tolerate the geometry intersection tests (which are based on line-casts between adjacent field line positions) to deviate from the exact field line."
   ]
  },
  {
   "cell_type": "code",
   "execution_count": null,
   "id": "5f6e237b-0721-4e8a-977e-9106a0514dd4",
   "metadata": {},
   "outputs": [],
   "source": [
    "traceResult = fsc.flt.trace(\n",
    "    [xSurf, ySurf, zSurf], field, geometry,\n",
    "    distanceLimit = 0, # Disable distance limit\n",
    "    collisionLimit = 1, # Terminate field line on first collision\n",
    "    meanFreePath = 1, meanFreePathGrowth = 0.1,\n",
    "    parallelDiffusionCoefficient = 1,\n",
    "    # parallelConvectionVelocity = 1,\n",
    "    isotropicDiffusionCoefficient = 1e-7,\n",
    "    mapping = mapping, stepSize = 0.2\n",
    ")"
   ]
  },
  {
   "cell_type": "markdown",
   "id": "2b13ffc7-7a1f-4cc3-ae43-27c4398a71b3",
   "metadata": {},
   "source": [
    "The result of flt.trace is a superset of the Poincare and connection-length functions (in fact these functions just call trace and return part of the result). Of interest for us is the dict entry 'endPoints', which contains 4 pieces of information about the end points: Their x, y, and z coordinates as well as the length of the field line (which we don't care about here). Since we know the final distribution to be Stellarator-symmetric, we symmetrize the heat loads between our divertors to get better statistics."
   ]
  },
  {
   "cell_type": "code",
   "execution_count": 13,
   "id": "f9639dda-3581-438d-966e-2efd702bf2ad",
   "metadata": {},
   "outputs": [
    {
     "name": "stdout",
     "output_type": "stream",
     "text": [
      "dict_keys(['endPoints', 'poincareHits', 'stopReasons', 'fieldLines', 'fieldStrengths', 'endTags', 'numSteps', 'responseSize'])\n",
      "(4, 100, 220)\n",
      "(3, 10, 100, 220) 220000\n"
     ]
    }
   ],
   "source": [
    "print(traceResult.keys())\n",
    "print(traceResult['endPoints'].shape)\n",
    "xyz = traceResult['endPoints'][0:3]\n",
    "xyz = fsc.flt.symmetrize(xyz, nSym = 5, stellaratorSymmetric = True)\n",
    "print(xyz.shape, xyz[0].size)"
   ]
  },
  {
   "cell_type": "markdown",
   "id": "616e9c59-bc6f-4dbe-8d1a-8e739887167c",
   "metadata": {},
   "source": [
    "To obtain the heat loads from the point cloud, we use the 'hfcam' module. To do that, we need to follow the following steps:\n",
    "- Define a projection view\n",
    "- Build a camera that contains a rasterized geometry mesh and infos about the rasterization.\n",
    "- Render the points into the camera image."
   ]
  },
  {
   "cell_type": "code",
   "execution_count": 16,
   "id": "e24fc0c6-af99-448b-9f84-fb656f648c2c",
   "metadata": {},
   "outputs": [],
   "source": [
    "camGeo = w7x.divertor('OP21')# + w7x.baffles('OP21')\n",
    "camProj = fsc.hfcam.toroidalProjection(\n",
    "    w = 2500, h = 1200,\n",
    "    #w = 625, h = 300,\n",
    "    phi = np.radians(7), rTarget = 5.8, zTarget = -0.5,\n",
    "    verticalInclination = np.radians(30), horizontalInclination = 0,\n",
    "    distance = 0.5, viewportHeight = 2.5,\n",
    "    fieldOfView = np.radians(0)\n",
    ")\n",
    "cam = fsc.hfcam.make(camProj, camGeo, depthTolerance = 0)"
   ]
  },
  {
   "cell_type": "code",
   "execution_count": 24,
   "id": "f1179a74-46f4-42e1-a3a0-0eb7b677c4dd",
   "metadata": {},
   "outputs": [
    {
     "data": {
      "text/plain": [
       "width: 2500\n",
       "height: 1200\n",
       "transform: [-0.058497284834470767, -0.49627307582066105, -0.85957018174986644, -0, 0.47642215278783445, -0.060934671702573738, -0.10554194733138723, -0, 6.6613381477509375e-18, 0.86602540378443837, -0.49999999999999989, -0, 1.6653345369377344e-18, 3.3330127018922191, 5.2729473419497426, 1.25]"
      ]
     },
     "execution_count": 24,
     "metadata": {},
     "output_type": "execute_result"
    }
   ],
   "source": [
    "camProj"
   ]
  },
  {
   "cell_type": "code",
   "execution_count": 17,
   "id": "e41e307f-d008-40f6-8060-b43ccb914645",
   "metadata": {},
   "outputs": [
    {
     "ename": "RuntimeError",
     "evalue": "C++ exception (failed) at (remote) -- line 0\nremote exception: Exceeded message traversal limit.  See capnp::ReaderOptions.\nTrace: \n",
     "output_type": "error",
     "traceback": [
      "\u001b[1;31m---------------------------------------------------------------------------\u001b[0m",
      "\u001b[1;31mRuntimeError\u001b[0m                              Traceback (most recent call last)",
      "Cell \u001b[1;32mIn[17], line 1\u001b[0m\n\u001b[1;32m----> 1\u001b[0m camData \u001b[38;5;241m=\u001b[39m \u001b[43mcam\u001b[49m\u001b[38;5;241;43m.\u001b[39;49m\u001b[43mgetData\u001b[49m\u001b[43m(\u001b[49m\u001b[43m)\u001b[49m\n\u001b[0;32m      2\u001b[0m detBuf \u001b[38;5;241m=\u001b[39m np\u001b[38;5;241m.\u001b[39masarray(camData\u001b[38;5;241m.\u001b[39mdeterminantBuffer)\n\u001b[0;32m      3\u001b[0m cam\u001b[38;5;241m.\u001b[39mclear()\n",
      "File \u001b[1;32m~\\Documents\\repos\\fsc\\src\\python\\fusionsc\\asnc.py:55\u001b[0m, in \u001b[0;36mAsyncMethodDescriptor.__call__\u001b[1;34m(self, *args, **kwargs)\u001b[0m\n\u001b[0;32m     46\u001b[0m \u001b[38;5;28;01massert\u001b[39;00m canWait(), (\n\u001b[0;32m     47\u001b[0m \t\u001b[38;5;124m\"\u001b[39m\u001b[38;5;124mThe synchronous call for this function is only valid in areas where the program can safely suspend execution. Particularly, coroutines \u001b[39m\u001b[38;5;124m\"\u001b[39m\n\u001b[0;32m     48\u001b[0m \t\u001b[38;5;124m\"\u001b[39m\u001b[38;5;124mdecorated with fsc.asnc.asyncFunction or run by fsc.asnc.run(...) may not use the synchronous wrappers. Instead of calling f(...),  call \u001b[39m\u001b[38;5;124m\"\u001b[39m\n\u001b[1;32m   (...)\u001b[0m\n\u001b[0;32m     51\u001b[0m \t\u001b[38;5;124m\"\u001b[39m\u001b[38;5;124m(which gets a new stack) which can suspend synchronous-style.\u001b[39m\u001b[38;5;124m\"\u001b[39m\n\u001b[0;32m     52\u001b[0m )\n\u001b[0;32m     54\u001b[0m future \u001b[38;5;241m=\u001b[39m \u001b[38;5;28mself\u001b[39m\u001b[38;5;241m.\u001b[39masnc(\u001b[38;5;241m*\u001b[39margs, \u001b[38;5;241m*\u001b[39m\u001b[38;5;241m*\u001b[39mkwargs)\n\u001b[1;32m---> 55\u001b[0m \u001b[38;5;28;01mreturn\u001b[39;00m \u001b[43mwait\u001b[49m\u001b[43m(\u001b[49m\u001b[43mfuture\u001b[49m\u001b[43m)\u001b[49m\n",
      "File \u001b[1;32m~\\Documents\\repos\\fsc\\src\\python\\fusionsc\\asnc.py:105\u001b[0m, in \u001b[0;36mwait\u001b[1;34m(awaitable)\u001b[0m\n\u001b[0;32m     97\u001b[0m \u001b[38;5;28;01massert\u001b[39;00m hasEventLoop(), \u001b[38;5;124m\"\u001b[39m\u001b[38;5;124mAsynchronous objects can only be used in threads with an active event loop. Create one for your thread with fsc.asnc.startEventLoop()\u001b[39m\u001b[38;5;124m\"\u001b[39m\n\u001b[0;32m     98\u001b[0m \u001b[38;5;28;01massert\u001b[39;00m canWait(), (\n\u001b[0;32m     99\u001b[0m \t\u001b[38;5;124m\"\u001b[39m\u001b[38;5;124mCan not wait on promises / coroutine because the program can not safely suspend execution. Particularly, coroutines \u001b[39m\u001b[38;5;124m\"\u001b[39m\n\u001b[0;32m    100\u001b[0m \t\u001b[38;5;124m\"\u001b[39m\u001b[38;5;124mdecorated with fsc.asnc.asyncFunction or run by fsc.asnc.run(...) may not use wait(...). If you absolutely need to call the synchronous version (e.g. because you \u001b[39m\u001b[38;5;124m\"\u001b[39m\n\u001b[0;32m    101\u001b[0m \t\u001b[38;5;124m\"\u001b[39m\u001b[38;5;124mare inside a call by an external library that has doesn\u001b[39m\u001b[38;5;124m'\u001b[39m\u001b[38;5;124mt accept awaitables), then use the class fsc.asnc.FiberPool to start a new fiber \u001b[39m\u001b[38;5;124m\"\u001b[39m\n\u001b[0;32m    102\u001b[0m \t\u001b[38;5;124m\"\u001b[39m\u001b[38;5;124m(which gets a new stack) which can suspend synchronous-style.\u001b[39m\u001b[38;5;124m\"\u001b[39m\n\u001b[0;32m    103\u001b[0m )\n\u001b[1;32m--> 105\u001b[0m \u001b[38;5;28;01mreturn\u001b[39;00m \u001b[43mnativeWait\u001b[49m\u001b[43m(\u001b[49m\u001b[43mawaitable\u001b[49m\u001b[43m)\u001b[49m\n",
      "\u001b[1;31mRuntimeError\u001b[0m: C++ exception (failed) at (remote) -- line 0\nremote exception: Exceeded message traversal limit.  See capnp::ReaderOptions.\nTrace: \n"
     ]
    }
   ],
   "source": [
    "camData = cam.getData()\n",
    "detBuf = np.asarray(camData.determinantBuffer)\n",
    "cam.clear()\n",
    "cam.addPoints(xyz, r = 0.015)\n",
    "result = cam.get()\n",
    "\n",
    "plt.figure(figsize = (24, 14))\n",
    "\n",
    "# Show mesh in background\n",
    "plt.imshow(detBuf.T, origin ='lower', cmap = 'gray')\n",
    "\n",
    "plt.imshow(np.asarray(result.image).T / xyz.size * 3, origin = 'lower', cmap = 'magma', alpha=0.7)\n",
    "\n",
    "plt.colorbar(label = \"Heat-load normalized against total power ($m^{-2}$)\")\n",
    "plt.axis('off')\n",
    "plt.title(\"Normalized divertor heat loads\")"
   ]
  },
  {
   "cell_type": "code",
   "execution_count": null,
   "id": "5abe3e53-c842-42a2-bb4d-6a927c2fbdc6",
   "metadata": {},
   "outputs": [],
   "source": []
  }
 ],
 "metadata": {
  "kernelspec": {
   "display_name": "Python 3 (ipykernel)",
   "language": "python",
   "name": "python3"
  },
  "language_info": {
   "codemirror_mode": {
    "name": "ipython",
    "version": 3
   },
   "file_extension": ".py",
   "mimetype": "text/x-python",
   "name": "python",
   "nbconvert_exporter": "python",
   "pygments_lexer": "ipython3",
   "version": "3.10.4"
  }
 },
 "nbformat": 4,
 "nbformat_minor": 5
}
