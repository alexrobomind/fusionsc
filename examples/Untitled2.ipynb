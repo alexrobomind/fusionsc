{
 "cells": [
  {
   "cell_type": "code",
   "execution_count": 2,
   "id": "43879555-03bf-48c1-883a-114c7553f083",
   "metadata": {},
   "outputs": [],
   "source": [
    "import fsc\n",
    "from fsc.devices import w7x\n",
    "import numpy as np\n",
    "import matplotlib.pyplot as plt\n",
    "import matplotlib\n",
    "import pyvista as pv"
   ]
  },
  {
   "cell_type": "code",
   "execution_count": 3,
   "id": "fcf68692-8548-4890-90d9-e805e2e0242c",
   "metadata": {},
   "outputs": [],
   "source": [
    "fsc.resolve.importOfflineData(\"../w7x.fsc\")"
   ]
  },
  {
   "cell_type": "code",
   "execution_count": 4,
   "id": "31c161a0-9281-46be-aef7-b7611d51d5a1",
   "metadata": {},
   "outputs": [],
   "source": [
    "geoGrid = w7x.defaultGeometryGrid\n",
    "geometry = fsc.Geometry(fsc.data.readArchive('geometry.fsc'))"
   ]
  },
  {
   "cell_type": "code",
   "execution_count": 8,
   "id": "620fff7a-bc4a-4a32-97ad-88cec412baf1",
   "metadata": {},
   "outputs": [],
   "source": [
    "archiveCoils = fsc.data.readArchive(\"cadCoils.fsc\")\n",
    "config = w7x.standard(coils = archiveCoils)\n",
    "grid = w7x.defaultGrid.clone()\n",
    "grid.nR = 128\n",
    "grid.nZ = 128\n",
    "grid.nPhi = 32"
   ]
  },
  {
   "cell_type": "code",
   "execution_count": 9,
   "id": "da74fe0b-cedf-4d7a-b53e-56ed46f9b2a5",
   "metadata": {},
   "outputs": [],
   "source": [
    "tracer = fsc.tracer()"
   ]
  },
  {
   "cell_type": "code",
   "execution_count": 10,
   "id": "ae102c3a-52c0-4ee8-84cc-45fd15b6c44a",
   "metadata": {},
   "outputs": [],
   "source": [
    "pLCFS = np.linspace([6.0, 0.0, 0.0], [6.3, 0, 0], 30, axis = 1)\n",
    "\n",
    "traceResult = tracer.trace(pLCFS, config, geometry = geometry, grid = grid, geometryGrid = geoGrid, distanceLimit = 1e3, collisionLimit = 1)"
   ]
  },
  {
   "cell_type": "code",
   "execution_count": 11,
   "id": "5397a8aa-5be3-412b-be13-6fe378f388cf",
   "metadata": {},
   "outputs": [],
   "source": [
    "iFirst = np.argmax(traceResult['stopReasons'] == 'collisionLimit')"
   ]
  },
  {
   "cell_type": "code",
   "execution_count": 12,
   "id": "7b35891b-d648-440c-9d44-26de13826649",
   "metadata": {},
   "outputs": [],
   "source": [
    "surfacePoints = tracer.poincareInPhiPlanes(pLCFS[:,iFirst - 1], [0], 200, config, grid = grid)"
   ]
  },
  {
   "cell_type": "code",
   "execution_count": 13,
   "id": "8ce3cec5-4d00-427f-9822-da94adbad90d",
   "metadata": {},
   "outputs": [],
   "source": [
    "startPoints = surfacePoints[:3,:,:]\n",
    "\n",
    "tracingArgs = dict(\n",
    "    isotropicDiffusionCoefficient = 1e-6,\n",
    "    meanFreePath = 1,\n",
    "    parallelConvectionVelocity = 1,\n",
    "    grid = grid,\n",
    "    geometryGrid = geoGrid,\n",
    "    geometry = geometry,\n",
    "    distanceLimit = 1e3,\n",
    "    collisionLimit = 1,\n",
    "    stepSize = 0.01\n",
    ")\n",
    "\n",
    "diffResult = tracer.trace(startPoints, config, **tracingArgs)"
   ]
  },
  {
   "cell_type": "code",
   "execution_count": 12,
   "id": "b351a616-03b4-413e-ac03-cdee8ad21946",
   "metadata": {},
   "outputs": [
    {
     "data": {
      "application/vnd.jupyter.widget-view+json": {
       "model_id": "dec3f89d30e5435a9bfd3a9efe796ed2",
       "version_major": 2,
       "version_minor": 0
      },
      "text/plain": [
       "ViewInteractiveWidget(height=1200, layout=Layout(height='auto', width='100%'), width=1920)"
      ]
     },
     "metadata": {},
     "output_type": "display_data"
    }
   ],
   "source": [
    "pvp = pv.Plotter()\n",
    "\n",
    "resultPoints = diffResult['endPoints'][:3]\n",
    "resultPoints = fsc.flt.symmetrize(resultPoints, 5, True)\n",
    "pointCloud = pv.PolyData(resultPoints.reshape([3, -1]).T)\n",
    "\n",
    "multiGeo = pv.MultiBlock([pointCloud, fsc.geometry.asPyvista(w7x.components([165], 'TDU'))])\n",
    "pvp.add_mesh(multiGeo)\n",
    "pvp.show(full_screen=True)"
   ]
  },
  {
   "cell_type": "code",
   "execution_count": 9,
   "id": "c071c138-af58-4eda-ba33-98951816d07b",
   "metadata": {
    "tags": []
   },
   "outputs": [
    {
     "data": {
      "application/vnd.jupyter.widget-view+json": {
       "model_id": "c6f83186d85343a58e7659446875a9fc",
       "version_major": 2,
       "version_minor": 0
      },
      "text/plain": [
       "ViewInteractiveWidget(height=768, layout=Layout(height='auto', width='100%'), width=1024)"
      ]
     },
     "metadata": {},
     "output_type": "display_data"
    }
   ],
   "source": [
    "pvp = pv.Plotter()\n",
    "\n",
    "multiGeo = pv.MultiBlock([fsc.geometry.asPyvista(w7x.components([165], 'TDU'))])\n",
    "pvp.add_mesh(multiGeo)\n",
    "pvp.show()"
   ]
  },
  {
   "cell_type": "code",
   "execution_count": null,
   "id": "24522dbc-48ee-461a-b252-f80867ddd642",
   "metadata": {},
   "outputs": [],
   "source": []
  }
 ],
 "metadata": {
  "kernelspec": {
   "display_name": "Python 3 (ipykernel)",
   "language": "python",
   "name": "python3"
  },
  "language_info": {
   "codemirror_mode": {
    "name": "ipython",
    "version": 3
   },
   "file_extension": ".py",
   "mimetype": "text/x-python",
   "name": "python",
   "nbconvert_exporter": "python",
   "pygments_lexer": "ipython3",
   "version": "3.8.10"
  }
 },
 "nbformat": 4,
 "nbformat_minor": 5
}
