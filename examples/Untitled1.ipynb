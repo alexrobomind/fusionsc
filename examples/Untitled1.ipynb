{
 "cells": [
  {
   "cell_type": "code",
   "execution_count": 1,
   "id": "3e78b916-8e19-474d-9a4b-0760f368e61a",
   "metadata": {},
   "outputs": [],
   "source": [
    "import fsc\n",
    "from fsc.devices import w7x\n",
    "import numpy as np"
   ]
  },
  {
   "cell_type": "code",
   "execution_count": 2,
   "id": "75ddac5d-bf6a-4a6b-a0c9-93e83e52243a",
   "metadata": {},
   "outputs": [],
   "source": [
    "fsc.resolve.importOfflineData(\"C:\\\\Users\\\\Knieps\\\\Downloads\\\\w7x.fsc\")"
   ]
  },
  {
   "cell_type": "code",
   "execution_count": 3,
   "id": "e7f9650c-0e22-4769-9e9f-7b157b960db7",
   "metadata": {},
   "outputs": [],
   "source": [
    "tracer = fsc.tracer()"
   ]
  },
  {
   "cell_type": "code",
   "execution_count": null,
   "id": "af429207-9dc6-4074-a4e2-10f681e64374",
   "metadata": {},
   "outputs": [],
   "source": [
    "geoGrid = w7x.defaultGeometryGrid\n",
    "geometry = tracer.indexGeometry(w7x.divertor(), grid = geoGrid)\n",
    "geometry"
   ]
  },
  {
   "cell_type": "code",
   "execution_count": 4,
   "id": "f5fc1b08-4ea4-484b-a9bb-6481dd329a64",
   "metadata": {},
   "outputs": [],
   "source": [
    "geoGrid = w7x.defaultGeometryGrid\n",
    "geometry = fsc.Geometry(fsc.data.readArchive('geometry.fsc'))"
   ]
  },
  {
   "cell_type": "code",
   "execution_count": 5,
   "id": "00c1db22-4a5f-4bd6-9dee-c8a527142539",
   "metadata": {},
   "outputs": [],
   "source": [
    "fsc.data.writeArchive(geometry.geometry, 'geometry.fsc')"
   ]
  },
  {
   "cell_type": "code",
   "execution_count": 6,
   "id": "b50c4882-2243-4fab-bcb1-281e2a38e860",
   "metadata": {},
   "outputs": [
    {
     "name": "stdout",
     "output_type": "stream",
     "text": [
      "Help on Geometry in module fsc object:\n",
      "\n",
      "class Geometry(builtins.object)\n",
      " |  Geometry(geo=None)\n",
      " |  \n",
      " |  Methods defined here:\n",
      " |  \n",
      " |  __add__(self, other)\n",
      " |  \n",
      " |  __init__(self, geo=None)\n",
      " |      Initialize self.  See help(type(self)) for accurate signature.\n",
      " |  \n",
      " |  __repr__(self)\n",
      " |      Return repr(self).\n",
      " |  \n",
      " |  graph(self, **kwargs)\n",
      " |  \n",
      " |  ptree(self)\n",
      " |  \n",
      " |  resolve(self)\n",
      " |  \n",
      " |  ----------------------------------------------------------------------\n",
      " |  Data descriptors defined here:\n",
      " |  \n",
      " |  __dict__\n",
      " |      dictionary for instance variables (if defined)\n",
      " |  \n",
      " |  __weakref__\n",
      " |      list of weak references to the object (if defined)\n",
      " |  \n",
      " |  geometry\n",
      "\n"
     ]
    }
   ],
   "source": [
    "help(geometry)"
   ]
  },
  {
   "cell_type": "code",
   "execution_count": 5,
   "id": "ce99c9e7-7216-47fa-891e-ef97fb1fbdd9",
   "metadata": {
    "tags": []
   },
   "outputs": [],
   "source": [
    "archiveCoils = fsc.data.readArchive(\"cadCoils.fsc\")\n",
    "config = w7x.standard(coils = archiveCoils)\n",
    "grid = w7x.defaultGrid.clone()\n",
    "grid.nR = 128\n",
    "grid.nZ = 128\n",
    "grid.nPhi = 32"
   ]
  },
  {
   "cell_type": "code",
   "execution_count": 6,
   "id": "b833fffc-dbfa-4b0c-b95b-3e85035cd4ca",
   "metadata": {},
   "outputs": [],
   "source": [
    "import matplotlib.pyplot as plt\n",
    "import numpy as np"
   ]
  },
  {
   "cell_type": "code",
   "execution_count": 7,
   "id": "740d1c9c-413f-4c1f-b6b6-daebb671ac5c",
   "metadata": {},
   "outputs": [
    {
     "name": "stdout",
     "output_type": "stream",
     "text": [
      "Computed field obtained\n",
      "Indexed geometry obtained\n",
      "Starting trace\n"
     ]
    },
    {
     "data": {
      "text/plain": [
       "namespace(endPoints=array([-5.11769073,  2.50216355,  1.50072312]))"
      ]
     },
     "execution_count": 7,
     "metadata": {},
     "output_type": "execute_result"
    }
   ],
   "source": [
    "tracer.trace([6.5, 0,0], config, grid = grid, geometryGrid = geoGrid, geometry = geometry, distanceLimit = 1e2)"
   ]
  },
  {
   "cell_type": "code",
   "execution_count": null,
   "id": "b7b2331a-32aa-484f-b8b6-90cf59e44247",
   "metadata": {},
   "outputs": [
    {
     "name": "stdout",
     "output_type": "stream",
     "text": [
      "Assigning\n",
      "Tracing\n"
     ]
    }
   ],
   "source": [
    "points = np.linspace([5.6, 0.0, 0.0], [6.0, 0, 0], 10, axis = 1)\n",
    "pcPoints = tracer.poincareInPhiPlanes(points, [0.0], 2000, config, grid, distanceLimit = 5e4, stepSize = 1e-3)"
   ]
  },
  {
   "cell_type": "code",
   "execution_count": null,
   "id": "9930e6a3-30b8-4753-8e83-ee10673b0afb",
   "metadata": {},
   "outputs": [],
   "source": []
  }
 ],
 "metadata": {
  "kernelspec": {
   "display_name": "Python 3 (ipykernel)",
   "language": "python",
   "name": "python3"
  },
  "language_info": {
   "codemirror_mode": {
    "name": "ipython",
    "version": 3
   },
   "file_extension": ".py",
   "mimetype": "text/x-python",
   "name": "python",
   "nbconvert_exporter": "python",
   "pygments_lexer": "ipython3",
   "version": "3.10.4"
  }
 },
 "nbformat": 4,
 "nbformat_minor": 5
}
