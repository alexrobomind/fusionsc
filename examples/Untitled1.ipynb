{
 "cells": [
  {
   "cell_type": "code",
   "execution_count": 1,
   "id": "3e78b916-8e19-474d-9a4b-0760f368e61a",
   "metadata": {},
   "outputs": [],
   "source": [
    "import fsc\n",
    "from fsc.devices import w7x\n",
    "import numpy as np"
   ]
  },
  {
   "cell_type": "code",
   "execution_count": 2,
   "id": "75ddac5d-bf6a-4a6b-a0c9-93e83e52243a",
   "metadata": {},
   "outputs": [],
   "source": [
    "fsc.resolve.importOfflineData(\"../w7x.fsc\")"
   ]
  },
  {
   "cell_type": "code",
   "execution_count": 3,
   "id": "e7f9650c-0e22-4769-9e9f-7b157b960db7",
   "metadata": {},
   "outputs": [],
   "source": [
    "tracer = fsc.tracer()"
   ]
  },
  {
   "cell_type": "code",
   "execution_count": 6,
   "id": "af429207-9dc6-4074-a4e2-10f681e64374",
   "metadata": {},
   "outputs": [
    {
     "data": {
      "text/plain": [
       "(indexed = (base = <external capability>, grid = (xMin = -7, xMax = 7, yMin = -7, yMax = 7, zMin = -1.5, zMax = 1.5, nX = 200, nY = 200, nZ = 60), data = <external capability>))"
      ]
     },
     "execution_count": 6,
     "metadata": {},
     "output_type": "execute_result"
    }
   ],
   "source": [
    "geoGrid = w7x.defaultGeometryGrid\n",
    "geometry = tracer.indexGeometry(w7x.divertor(), grid = geoGrid)\n",
    "geometry"
   ]
  },
  {
   "cell_type": "code",
   "execution_count": 7,
   "id": "00c1db22-4a5f-4bd6-9dee-c8a527142539",
   "metadata": {},
   "outputs": [],
   "source": [
    "fsc.data.writeArchive(geometry.geometry, 'geometry.fsc')"
   ]
  },
  {
   "cell_type": "code",
   "execution_count": 4,
   "id": "f5fc1b08-4ea4-484b-a9bb-6481dd329a64",
   "metadata": {},
   "outputs": [],
   "source": [
    "geoGrid = w7x.defaultGeometryGrid\n",
    "geometry = fsc.Geometry(fsc.data.readArchive('geometry.fsc'))"
   ]
  },
  {
   "cell_type": "code",
   "execution_count": 5,
   "id": "ce99c9e7-7216-47fa-891e-ef97fb1fbdd9",
   "metadata": {
    "tags": []
   },
   "outputs": [],
   "source": [
    "archiveCoils = fsc.data.readArchive(\"cadCoils.fsc\")\n",
    "config = w7x.standard(coils = archiveCoils)\n",
    "grid = w7x.defaultGrid.clone()\n",
    "grid.nR = 128\n",
    "grid.nZ = 128\n",
    "grid.nPhi = 32"
   ]
  },
  {
   "cell_type": "code",
   "execution_count": 6,
   "id": "b833fffc-dbfa-4b0c-b95b-3e85035cd4ca",
   "metadata": {},
   "outputs": [],
   "source": [
    "import matplotlib.pyplot as plt\n",
    "import numpy as np"
   ]
  },
  {
   "cell_type": "code",
   "execution_count": 7,
   "id": "740d1c9c-413f-4c1f-b6b6-daebb671ac5c",
   "metadata": {},
   "outputs": [
    {
     "name": "stdout",
     "output_type": "stream",
     "text": [
      "Computed field obtained\n",
      "Indexed geometry obtained\n",
      "Starting trace\n"
     ]
    },
    {
     "data": {
      "text/plain": [
       "namespace(endPoints=array([3.43600565, 3.67088938, 0.07192287]))"
      ]
     },
     "execution_count": 7,
     "metadata": {},
     "output_type": "execute_result"
    }
   ],
   "source": [
    "tracer.trace([6.2, 0, 0], config, grid = grid, geometryGrid = geoGrid, geometry = geometry, distanceLimit = 2e3)"
   ]
  },
  {
   "cell_type": "code",
   "execution_count": 13,
   "id": "b7b2331a-32aa-484f-b8b6-90cf59e44247",
   "metadata": {},
   "outputs": [
    {
     "name": "stdout",
     "output_type": "stream",
     "text": [
      "Assigning\n",
      "Tracing\n",
      "Done\n"
     ]
    }
   ],
   "source": [
    "points = np.linspace([5.6, 0.0, 0.0], [6.0, 0, 0], 10, axis = 1)\n",
    "points = [6.2, 0, 0]\n",
    "pcPoints = tracer.poincareInPhiPlanes(points, [0.0], 200, config, grid, distanceLimit = 5e3, stepSize = 1e-3)"
   ]
  },
  {
   "cell_type": "code",
   "execution_count": 14,
   "id": "9930e6a3-30b8-4753-8e83-ee10673b0afb",
   "metadata": {},
   "outputs": [
    {
     "name": "stdout",
     "output_type": "stream",
     "text": [
      "Creating request\n",
      "Getting plane\n",
      "Setting phi\n",
      "Setting center\n",
      "Sending request\n"
     ]
    }
   ],
   "source": [
    "xl, yl, zl = fsc.geometry.planarCut(geometry, geoLib = tracer.geometryLib, phi = 0)\n",
    "rl = np.sqrt(xl**2 + yl**2)"
   ]
  },
  {
   "cell_type": "code",
   "execution_count": 15,
   "id": "aaea0e17-7699-4a9b-87a8-b231e5fdbdc7",
   "metadata": {},
   "outputs": [
    {
     "data": {
      "text/plain": [
       "(5.279870849420378, 6.243620668097223, -1.1064351042245493, 1.1064351042245493)"
      ]
     },
     "execution_count": 15,
     "metadata": {},
     "output_type": "execute_result"
    },
    {
     "data": {
      "image/png": "[encoded data removed]",
      "text/plain": [
       "<Figure size 432x288 with 1 Axes>"
      ]
     },
     "metadata": {
      "needs_background": "light"
     },
     "output_type": "display_data"
    }
   ],
   "source": [
    "for v1, v2 in zip(rl, zl):\n",
    "    plt.plot(v1, v2)\n",
    "\n",
    "x, y, z = pcPoints\n",
    "r = np.sqrt(x**2 + y**2)\n",
    "plt.scatter(r, z, s = 1)\n",
    "\n",
    "plt.axis('equal')"
   ]
  },
  {
   "cell_type": "code",
   "execution_count": 10,
   "id": "20011eaa-db67-47c2-a5d3-6a4d1e1076e9",
   "metadata": {},
   "outputs": [
    {
     "data": {
      "text/plain": [
       "(224, 2)"
      ]
     },
     "execution_count": 10,
     "metadata": {},
     "output_type": "execute_result"
    }
   ],
   "source": [
    "xl.shape"
   ]
  },
  {
   "cell_type": "code",
   "execution_count": null,
   "id": "4dfc88ef-7ecc-4d61-8efd-fcd4bf15ad6a",
   "metadata": {},
   "outputs": [],
   "source": []
  }
 ],
 "metadata": {
  "kernelspec": {
   "display_name": "Python 3 (ipykernel)",
   "language": "python",
   "name": "python3"
  },
  "language_info": {
   "codemirror_mode": {
    "name": "ipython",
    "version": 3
   },
   "file_extension": ".py",
   "mimetype": "text/x-python",
   "name": "python",
   "nbconvert_exporter": "python",
   "pygments_lexer": "ipython3",
   "version": "3.8.10"
  }
 },
 "nbformat": 4,
 "nbformat_minor": 5
}
