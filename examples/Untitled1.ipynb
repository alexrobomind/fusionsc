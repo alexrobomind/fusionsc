{
 "cells": [
  {
   "cell_type": "code",
   "execution_count": 1,
   "id": "3e78b916-8e19-474d-9a4b-0760f368e61a",
   "metadata": {},
   "outputs": [],
   "source": [
    "import fsc\n",
    "from fsc.devices import w7x\n",
    "import numpy as np"
   ]
  },
  {
   "cell_type": "code",
   "execution_count": 2,
   "id": "75ddac5d-bf6a-4a6b-a0c9-93e83e52243a",
   "metadata": {},
   "outputs": [],
   "source": [
    "fsc.resolve.importOfflineData(\"../w7x.fsc\")"
   ]
  },
  {
   "cell_type": "code",
   "execution_count": 3,
   "id": "e7f9650c-0e22-4769-9e9f-7b157b960db7",
   "metadata": {},
   "outputs": [],
   "source": [
    "tracer = fsc.tracer()"
   ]
  },
  {
   "cell_type": "code",
   "execution_count": 6,
   "id": "af429207-9dc6-4074-a4e2-10f681e64374",
   "metadata": {},
   "outputs": [
    {
     "data": {
      "text/plain": [
       "(indexed = (base = <external capability>, grid = (xMin = -7, xMax = 7, yMin = -7, yMax = 7, zMin = -1.5, zMax = 1.5, nX = 200, nY = 200, nZ = 60), data = <external capability>))"
      ]
     },
     "execution_count": 6,
     "metadata": {},
     "output_type": "execute_result"
    }
   ],
   "source": [
    "geoGrid = w7x.defaultGeometryGrid\n",
    "geometry = tracer.indexGeometry(w7x.divertor(), grid = geoGrid)\n",
    "geometry"
   ]
  },
  {
   "cell_type": "code",
   "execution_count": 7,
   "id": "00c1db22-4a5f-4bd6-9dee-c8a527142539",
   "metadata": {},
   "outputs": [],
   "source": [
    "fsc.data.writeArchive(geometry.geometry, 'geometry.fsc')"
   ]
  },
  {
   "cell_type": "code",
   "execution_count": 4,
   "id": "f5fc1b08-4ea4-484b-a9bb-6481dd329a64",
   "metadata": {},
   "outputs": [],
   "source": [
    "geoGrid = w7x.defaultGeometryGrid\n",
    "geometry = fsc.Geometry(fsc.data.readArchive('geometry.fsc'))"
   ]
  },
  {
   "cell_type": "code",
   "execution_count": 5,
   "id": "ce99c9e7-7216-47fa-891e-ef97fb1fbdd9",
   "metadata": {
    "tags": []
   },
   "outputs": [],
   "source": [
    "archiveCoils = fsc.data.readArchive(\"cadCoils.fsc\")\n",
    "config = w7x.standard(coils = archiveCoils)\n",
    "grid = w7x.defaultGrid.clone()\n",
    "grid.nR = 128\n",
    "grid.nZ = 128\n",
    "grid.nPhi = 32"
   ]
  },
  {
   "cell_type": "code",
   "execution_count": 6,
   "id": "b833fffc-dbfa-4b0c-b95b-3e85035cd4ca",
   "metadata": {},
   "outputs": [],
   "source": [
    "import matplotlib.pyplot as plt\n",
    "import matplotlib\n",
    "\n",
    "import numpy as np"
   ]
  },
  {
   "cell_type": "code",
   "execution_count": 7,
   "id": "740d1c9c-413f-4c1f-b6b6-daebb671ac5c",
   "metadata": {},
   "outputs": [
    {
     "ename": "NameError",
     "evalue": "name 'traceAsync' is not defined",
     "output_type": "error",
     "traceback": [
      "\u001b[1;31m---------------------------------------------------------------------------\u001b[0m",
      "\u001b[1;31mNameError\u001b[0m                                 Traceback (most recent call last)",
      "Input \u001b[1;32mIn [7]\u001b[0m, in \u001b[0;36m<cell line: 2>\u001b[1;34m()\u001b[0m\n\u001b[0;32m      1\u001b[0m points \u001b[38;5;241m=\u001b[39m np\u001b[38;5;241m.\u001b[39mlinspace([\u001b[38;5;241m6.1\u001b[39m, \u001b[38;5;241m0.0\u001b[39m, \u001b[38;5;241m0.0\u001b[39m], [\u001b[38;5;241m6.3\u001b[39m, \u001b[38;5;241m0\u001b[39m, \u001b[38;5;241m0\u001b[39m], \u001b[38;5;241m5\u001b[39m, axis \u001b[38;5;241m=\u001b[39m \u001b[38;5;241m1\u001b[39m)\n\u001b[1;32m----> 2\u001b[0m result \u001b[38;5;241m=\u001b[39m \u001b[43mtracer\u001b[49m\u001b[38;5;241;43m.\u001b[39;49m\u001b[43mtrace\u001b[49m\u001b[43m(\u001b[49m\u001b[43mpoints\u001b[49m\u001b[43m,\u001b[49m\u001b[43m \u001b[49m\u001b[43mconfig\u001b[49m\u001b[43m,\u001b[49m\u001b[43m \u001b[49m\u001b[43mgrid\u001b[49m\u001b[43m \u001b[49m\u001b[38;5;241;43m=\u001b[39;49m\u001b[43m \u001b[49m\u001b[43mgrid\u001b[49m\u001b[43m,\u001b[49m\u001b[43m \u001b[49m\u001b[43mgeometryGrid\u001b[49m\u001b[43m \u001b[49m\u001b[38;5;241;43m=\u001b[39;49m\u001b[43m \u001b[49m\u001b[43mgeoGrid\u001b[49m\u001b[43m,\u001b[49m\u001b[43m \u001b[49m\u001b[43mgeometry\u001b[49m\u001b[43m \u001b[49m\u001b[38;5;241;43m=\u001b[39;49m\u001b[43m \u001b[49m\u001b[43mgeometry\u001b[49m\u001b[43m,\u001b[49m\u001b[43m \u001b[49m\u001b[43mdistanceLimit\u001b[49m\u001b[43m \u001b[49m\u001b[38;5;241;43m=\u001b[39;49m\u001b[43m \u001b[49m\u001b[38;5;241;43m1e3\u001b[39;49m\u001b[43m,\u001b[49m\u001b[43m \u001b[49m\u001b[43mcollisionLimit\u001b[49m\u001b[43m \u001b[49m\u001b[38;5;241;43m=\u001b[39;49m\u001b[43m \u001b[49m\u001b[38;5;241;43m1\u001b[39;49m\u001b[43m,\u001b[49m\u001b[43m \u001b[49m\u001b[43mphiPlanes\u001b[49m\u001b[43m \u001b[49m\u001b[38;5;241;43m=\u001b[39;49m\u001b[43m \u001b[49m\u001b[43m[\u001b[49m\u001b[38;5;241;43m0\u001b[39;49m\u001b[43m]\u001b[49m\u001b[43m)\u001b[49m\n",
      "File \u001b[1;32mc:\\users\\knieps\\documents\\repos\\fsc\\src\\python\\fsc\\flt.py:38\u001b[0m, in \u001b[0;36mFLT.trace\u001b[1;34m(self, *args, **kwargs)\u001b[0m\n\u001b[0;32m     37\u001b[0m \u001b[38;5;28;01mdef\u001b[39;00m \u001b[38;5;21mtrace\u001b[39m(\u001b[38;5;28mself\u001b[39m, \u001b[38;5;241m*\u001b[39margs, \u001b[38;5;241m*\u001b[39m\u001b[38;5;241m*\u001b[39mkwargs):\n\u001b[1;32m---> 38\u001b[0m \t\u001b[38;5;28;01mreturn\u001b[39;00m \u001b[43mtraceAsync\u001b[49m(\u001b[38;5;241m*\u001b[39marg, \u001b[38;5;241m*\u001b[39m\u001b[38;5;241m*\u001b[39mkwargs)\u001b[38;5;241m.\u001b[39mwait()\n",
      "\u001b[1;31mNameError\u001b[0m: name 'traceAsync' is not defined"
     ]
    }
   ],
   "source": [
    "points = np.linspace([6.1, 0.0, 0.0], [6.3, 0, 0], 5, axis = 1)\n",
    "result = tracer.trace(points, config, grid = grid, geometryGrid = geoGrid, geometry = geometry, distanceLimit = 1e3, collisionLimit = 1, phiPlanes = [0])"
   ]
  },
  {
   "cell_type": "code",
   "execution_count": 7,
   "id": "72e75b49-ec0a-461e-8445-812f68bdce3d",
   "metadata": {},
   "outputs": [
    {
     "name": "stdout",
     "output_type": "stream",
     "text": [
      "Computed field obtained\n",
      "Indexed geometry obtained\n",
      "Starting trace\n",
      "Computed field obtained\n",
      "Indexed geometry obtained\n",
      "Starting trace\n"
     ]
    }
   ],
   "source": [
    "phi = 0\n",
    "r1 = 6.15\n",
    "r2 = 6.3\n",
    "z1 = -0.2\n",
    "z2 = 0.2\n",
    "r = np.linspace(r1, r2, 50)\n",
    "z = np.linspace(z1, z2, 50)\n",
    "\n",
    "gr, gz = np.meshgrid(r, z, indexing='ij')\n",
    "\n",
    "gx = np.cos(phi) * gr\n",
    "gy = np.sin(phi) * gr\n",
    "\n",
    "clenf = tracer.connectionLength(np.asarray([gx, gy, gz]), config, grid = grid, geometry = geometry, distanceLimit = 300)\n",
    "clenb = tracer.connectionLength(np.asarray([gx, gy, gz]), -config, grid = grid, geometry = geometry, distanceLimit = 300)"
   ]
  },
  {
   "cell_type": "code",
   "execution_count": 19,
   "id": "86a3d33c-8b7f-4e91-aed7-3f68472a4bbf",
   "metadata": {},
   "outputs": [
    {
     "data": {
      "text/plain": [
       "(6.15, 6.3, -0.2, 0.2)"
      ]
     },
     "execution_count": 19,
     "metadata": {},
     "output_type": "execute_result"
    },
    {
     "data": {
      "image/png": "[encoded data removed]",
      "text/plain": [
       "<Figure size 648x648 with 2 Axes>"
      ]
     },
     "metadata": {
      "needs_background": "light"
     },
     "output_type": "display_data"
    }
   ],
   "source": [
    "plt.figure(figsize = (9, 9))\n",
    "plt.contourf((clenf + clenb).T, norm = matplotlib.colors.LogNorm(), extent = [r1, r2, z1, z2], levels = 5)\n",
    "plt.colorbar()\n",
    "plt.axis('equal')"
   ]
  },
  {
   "cell_type": "code",
   "execution_count": 8,
   "id": "71b58eba-4c65-4b32-818c-7ee30de62c07",
   "metadata": {},
   "outputs": [
    {
     "data": {
      "text/plain": [
       "array([1000.00099998, 1000.00099998, 1000.00099998, 1000.00099998,\n",
       "       1000.00099998, 1000.00099998, 1000.00099998, 1000.00099998,\n",
       "       1000.00099998, 1000.00099998, 1000.00099998, 1000.00099998,\n",
       "       1000.00099998, 1000.00099998, 1000.00099998, 1000.00099998,\n",
       "       1000.00099998, 1000.00099998, 1000.00099998, 1000.00099998,\n",
       "       1000.00099998, 1000.00099998, 1000.00099998, 1000.00099998,\n",
       "       1000.00099998, 1000.00099998, 1000.00099998, 1000.00099998,\n",
       "       1000.00099998, 1000.00099998, 1000.00099998, 1000.00099998,\n",
       "       1000.00099998, 1000.00099998, 1000.00099998, 1000.00099998,\n",
       "       1000.00099998, 1000.00099998, 1000.00099998, 1000.00099998,\n",
       "       1000.00099998, 1000.00099998, 1000.00099998, 1000.00099998,\n",
       "       1000.00099998, 1000.00099998, 1000.00099998, 1000.00099998,\n",
       "       1000.00099998, 1000.00099998, 1000.00099998, 1000.00099998,\n",
       "       1000.00099998, 1000.00099998, 1000.00099998, 1000.00099998,\n",
       "       1000.00099998, 1000.00099998, 1000.00099998, 1000.00099998,\n",
       "       1000.00099998, 1000.00099998, 1000.00099998, 1000.00099998,\n",
       "       1000.00099998, 1000.00099998, 1000.00099998, 1000.00099998,\n",
       "       1000.00099998, 1000.00099998, 1000.00099998, 1000.00099998,\n",
       "       1000.00099998, 1000.00099998, 1000.00099998, 1000.00099998,\n",
       "       1000.00099998, 1000.00099998, 1000.00099998, 1000.00099998,\n",
       "       1000.00099998, 1000.00099998, 1000.00099998, 1000.00099998,\n",
       "       1000.00099998, 1000.00099998, 1000.00099998, 1000.00099998,\n",
       "       1000.00099998, 1000.00099998, 1000.00099998, 1000.00099998,\n",
       "       1000.00099998, 1000.00099998, 1000.00099998, 1000.00099998,\n",
       "       1000.00099998, 1000.00099998, 1000.00099998,  340.623     ])"
      ]
     },
     "execution_count": 8,
     "metadata": {},
     "output_type": "execute_result"
    }
   ],
   "source": [
    "clenf"
   ]
  },
  {
   "cell_type": "code",
   "execution_count": 10,
   "id": "7e3ede27-fceb-40e7-b89b-5e23b8793f87",
   "metadata": {},
   "outputs": [
    {
     "data": {
      "text/plain": [
       "{'endPoints': array([[-5.09793552e+00, -5.64143176e+00, -4.66638708e+00,\n",
       "          1.68779589e+00,  4.37435850e+00],\n",
       "        [ 1.57153442e+00, -4.31742334e-01, -2.41026015e+00,\n",
       "          5.32633131e+00,  4.25003919e+00],\n",
       "        [ 6.38442786e-01,  1.38859116e-01, -8.76149416e-01,\n",
       "          9.71815622e-01,  4.56341346e-01],\n",
       "        [ 1.00000100e+03,  1.00000100e+03,  1.00000100e+03,\n",
       "          7.71195325e+00,  4.78330385e+00]]),\n",
       " 'poincareHits': array([[[[ 6.00267613e+00,  5.82831337e+00,  5.75779262e+00,\n",
       "            5.79912181e+00,  5.77840951e+00,  5.76919943e+00,\n",
       "            5.90030262e+00,  6.06614948e+00,  6.07950607e+00,\n",
       "            5.92388044e+00,  5.77839016e+00,  5.77163339e+00,\n",
       "            5.80249646e+00,  5.75981391e+00,  5.81075052e+00,\n",
       "            5.98011284e+00,  6.09812003e+00,  6.02386529e+00,\n",
       "            5.84789008e+00,  5.75813112e+00,  5.79414192e+00,\n",
       "            5.78537298e+00,  5.76271126e+00,  5.87745314e+00,\n",
       "            6.05001402e+00,  6.08965834e+00,  5.94768536e+00,\n",
       "                       nan],\n",
       "          [ 6.06164048e+00,  5.86606710e+00,  5.69350834e+00,\n",
       "            5.64776611e+00,  5.72159857e+00,  5.75571474e+00,\n",
       "            5.67817119e+00,  5.65102134e+00,  5.76485659e+00,\n",
       "            5.96558454e+00,  6.12456417e+00,  6.12830696e+00,\n",
       "            5.97376127e+00,  5.77208446e+00,  5.65296018e+00,\n",
       "            5.67497773e+00,  5.75423636e+00,  5.72506859e+00,\n",
       "            5.64902517e+00,  5.68912594e+00,  5.85819241e+00,\n",
       "            6.05541855e+00,  6.14983923e+00,  6.06759362e+00,\n",
       "            5.87380702e+00,  5.69803348e+00,  5.64683350e+00,\n",
       "                       nan],\n",
       "          [ 6.17384193e+00,  6.11424142e+00,  6.04721958e+00,\n",
       "            5.97185166e+00,  5.87193397e+00,  5.74651516e+00,\n",
       "            5.62725272e+00,  5.54480265e+00,  5.50143200e+00,\n",
       "            5.48945110e+00,  5.50605604e+00,  5.55489857e+00,\n",
       "            5.62665566e+00,  5.68387025e+00,  5.70802582e+00,\n",
       "            5.70980088e+00,  5.69115348e+00,  5.64046831e+00,\n",
       "            5.56834755e+00,  5.51314647e+00,  5.49039623e+00,\n",
       "            5.49672549e+00,  5.53310765e+00,  5.60724241e+00,\n",
       "            5.72062023e+00,  5.84823125e+00,  5.95426587e+00,\n",
       "                       nan],\n",
       "          [            nan,             nan,             nan,\n",
       "                       nan,             nan,             nan,\n",
       "                       nan,             nan,             nan,\n",
       "                       nan,             nan,             nan,\n",
       "                       nan,             nan,             nan,\n",
       "                       nan,             nan,             nan,\n",
       "                       nan,             nan,             nan,\n",
       "                       nan,             nan,             nan,\n",
       "                       nan,             nan,             nan,\n",
       "                       nan],\n",
       "          [            nan,             nan,             nan,\n",
       "                       nan,             nan,             nan,\n",
       "                       nan,             nan,             nan,\n",
       "                       nan,             nan,             nan,\n",
       "                       nan,             nan,             nan,\n",
       "                       nan,             nan,             nan,\n",
       "                       nan,             nan,             nan,\n",
       "                       nan,             nan,             nan,\n",
       "                       nan,             nan,             nan,\n",
       "                       nan]]],\n",
       " \n",
       " \n",
       "        [[[ 3.54774080e-09,  7.28779934e-09,  7.63909286e-09,\n",
       "            8.69963214e-10, -6.09430769e-09, -8.16150177e-09,\n",
       "           -1.51012485e-09, -3.05289020e-09,  1.04083825e-09,\n",
       "            1.80850828e-09,  8.72921852e-09,  3.39919660e-09,\n",
       "           -1.47195627e-09, -6.64281321e-09, -4.23792425e-10,\n",
       "           -5.31866231e-09, -7.21092422e-10,  4.49616910e-09,\n",
       "            6.54211206e-09,  8.50145371e-09,  1.87959846e-09,\n",
       "           -4.13329456e-09, -8.38816320e-09, -7.37050022e-09,\n",
       "           -3.12621092e-09,  9.58037811e-10,  4.79406865e-10,\n",
       "                       nan],\n",
       "          [ 3.88990998e-09,  1.54223630e-09,  9.27950811e-09,\n",
       "            5.78918694e-09,  5.84611668e-09, -2.44785135e-09,\n",
       "           -3.63812062e-09, -1.00390277e-08, -6.69969449e-09,\n",
       "           -1.75531802e-09, -2.59214373e-09,  2.38147805e-09,\n",
       "            5.50863936e-09,  3.53293281e-09,  3.60548575e-09,\n",
       "            8.40131412e-09,  1.19674961e-09, -6.47212411e-09,\n",
       "           -1.66236281e-09, -2.34974297e-09, -7.02303033e-09,\n",
       "           -4.65412533e-10, -1.79040542e-10,  4.39314177e-09,\n",
       "            6.90403983e-09,  7.02459615e-09,  2.85051221e-09,\n",
       "                       nan],\n",
       "          [ 3.10133479e-10,  4.86815469e-09,  5.60192548e-09,\n",
       "            3.28850110e-09,  5.73912316e-09,  5.89932974e-09,\n",
       "            1.01771678e-08,  1.06360183e-08,  9.88893512e-09,\n",
       "            1.22962912e-08,  6.54528278e-09,  1.27796456e-08,\n",
       "            1.07767932e-08,  3.62110604e-09,  2.38188094e-09,\n",
       "           -1.65360328e-09, -5.82287605e-09, -3.23216022e-10,\n",
       "           -2.50629671e-09, -1.29773109e-08, -1.26239300e-08,\n",
       "           -3.14256988e-09, -1.04524398e-09, -1.10611727e-09,\n",
       "           -3.73887029e-09, -2.68740671e-09, -6.54857682e-09,\n",
       "                       nan],\n",
       "          [            nan,             nan,             nan,\n",
       "                       nan,             nan,             nan,\n",
       "                       nan,             nan,             nan,\n",
       "                       nan,             nan,             nan,\n",
       "                       nan,             nan,             nan,\n",
       "                       nan,             nan,             nan,\n",
       "                       nan,             nan,             nan,\n",
       "                       nan,             nan,             nan,\n",
       "                       nan,             nan,             nan,\n",
       "                       nan],\n",
       "          [            nan,             nan,             nan,\n",
       "                       nan,             nan,             nan,\n",
       "                       nan,             nan,             nan,\n",
       "                       nan,             nan,             nan,\n",
       "                       nan,             nan,             nan,\n",
       "                       nan,             nan,             nan,\n",
       "                       nan,             nan,             nan,\n",
       "                       nan,             nan,             nan,\n",
       "                       nan,             nan,             nan,\n",
       "                       nan]]],\n",
       " \n",
       " \n",
       "        [[[-3.87995557e-01, -5.55976442e-01, -4.65337578e-01,\n",
       "           -1.25071487e-01,  2.99863969e-01,  5.36642951e-01,\n",
       "            5.14490452e-01,  2.38532573e-01, -1.87209513e-01,\n",
       "           -4.92774352e-01, -5.48361551e-01, -3.44621101e-01,\n",
       "            6.84166136e-02,  4.34570104e-01,  5.58759891e-01,\n",
       "            4.23904705e-01,  5.67645041e-02, -3.47968272e-01,\n",
       "           -5.48761395e-01, -4.91518281e-01, -1.79847685e-01,\n",
       "            2.51604731e-01,  5.20669865e-01,  5.31882551e-01,\n",
       "            2.86802768e-01, -1.33598075e-01, -4.66726221e-01,\n",
       "                       nan],\n",
       "          [-4.06702853e-01, -6.52056028e-01, -7.18683326e-01,\n",
       "           -6.12401160e-01, -3.19493520e-01,  1.05426148e-01,\n",
       "            4.84173325e-01,  6.85519489e-01,  7.08936179e-01,\n",
       "            5.56994681e-01,  2.26149734e-01, -2.09251977e-01,\n",
       "           -5.46995604e-01, -7.06166908e-01, -6.89626219e-01,\n",
       "           -4.95808988e-01, -1.22546799e-01,  3.04316654e-01,\n",
       "            6.04557687e-01,  7.17653340e-01,  6.57793698e-01,\n",
       "            4.19275735e-01,  1.67263181e-02, -3.93999800e-01,\n",
       "           -6.46073360e-01, -7.19288995e-01, -6.19577207e-01,\n",
       "                       nan],\n",
       "          [-2.50468117e-01, -4.41635337e-01, -5.68501778e-01,\n",
       "           -6.62534660e-01, -7.47971179e-01, -8.21707173e-01,\n",
       "           -8.63625249e-01, -8.71283999e-01, -8.57065910e-01,\n",
       "           -8.21626996e-01, -7.52492583e-01, -6.32178501e-01,\n",
       "           -4.56453898e-01, -2.61003206e-01, -9.01726819e-02,\n",
       "            5.96111857e-02,  2.24190144e-01,  4.17171082e-01,\n",
       "            6.00945156e-01,  7.33011186e-01,  8.11048990e-01,\n",
       "            8.51894918e-01,  8.69972808e-01,  8.67494194e-01,\n",
       "            8.33241060e-01,  7.64256215e-01,  6.79965863e-01,\n",
       "                       nan],\n",
       "          [            nan,             nan,             nan,\n",
       "                       nan,             nan,             nan,\n",
       "                       nan,             nan,             nan,\n",
       "                       nan,             nan,             nan,\n",
       "                       nan,             nan,             nan,\n",
       "                       nan,             nan,             nan,\n",
       "                       nan,             nan,             nan,\n",
       "                       nan,             nan,             nan,\n",
       "                       nan,             nan,             nan,\n",
       "                       nan],\n",
       "          [            nan,             nan,             nan,\n",
       "                       nan,             nan,             nan,\n",
       "                       nan,             nan,             nan,\n",
       "                       nan,             nan,             nan,\n",
       "                       nan,             nan,             nan,\n",
       "                       nan,             nan,             nan,\n",
       "                       nan,             nan,             nan,\n",
       "                       nan,             nan,             nan,\n",
       "                       nan,             nan,             nan,\n",
       "                       nan]]],\n",
       " \n",
       " \n",
       "        [[[-9.63735000e+02, -9.27388000e+02, -8.90934000e+02,\n",
       "           -8.54380000e+02, -8.17794000e+02, -7.81279000e+02,\n",
       "           -7.44874000e+02, -7.08567000e+02, -6.72313000e+02,\n",
       "           -6.36017000e+02, -5.99626000e+02, -5.63124000e+02,\n",
       "           -5.26543000e+02, -4.89979000e+02, -4.53511000e+02,\n",
       "           -4.17151000e+02, -3.80877000e+02, -3.44616000e+02,\n",
       "           -3.08282000e+02, -2.71842000e+02, -2.35298000e+02,\n",
       "           -1.98710000e+02, -1.62183000e+02, -1.25763000e+02,\n",
       "           -8.94450000e+01, -5.31900000e+01, -1.69040000e+01,\n",
       "                       nan],\n",
       "          [-9.63819000e+02, -9.27578000e+02, -8.91273000e+02,\n",
       "           -8.54885000e+02, -8.18422000e+02, -7.81907000e+02,\n",
       "           -7.45411000e+02, -7.08982000e+02, -6.72635000e+02,\n",
       "           -6.36362000e+02, -6.00152000e+02, -5.63980000e+02,\n",
       "           -5.27772000e+02, -4.91502000e+02, -4.55159000e+02,\n",
       "           -4.18733000e+02, -3.82239000e+02, -3.45723000e+02,\n",
       "           -3.09256000e+02, -2.72865000e+02, -2.36557000e+02,\n",
       "           -2.00314000e+02, -1.64130000e+02, -1.27949000e+02,\n",
       "           -9.17110000e+01, -5.54080000e+01, -1.90240000e+01,\n",
       "                       nan],\n",
       "          [-9.63827000e+02, -9.27627000e+02, -8.91399000e+02,\n",
       "           -8.55159000e+02, -8.18918000e+02, -7.82681000e+02,\n",
       "           -7.46435000e+02, -7.10170000e+02, -6.73888000e+02,\n",
       "           -6.37592000e+02, -6.01281000e+02, -5.64951000e+02,\n",
       "           -5.28603000e+02, -4.92245000e+02, -4.55894000e+02,\n",
       "           -4.19550000e+02, -3.83201000e+02, -3.46843000e+02,\n",
       "           -3.10492000e+02, -2.74159000e+02, -2.37844000e+02,\n",
       "           -2.01545000e+02, -1.65260000e+02, -1.28992000e+02,\n",
       "           -9.27420000e+01, -5.65040000e+01, -2.02650000e+01,\n",
       "                       nan],\n",
       "          [            nan,             nan,             nan,\n",
       "                       nan,             nan,             nan,\n",
       "                       nan,             nan,             nan,\n",
       "                       nan,             nan,             nan,\n",
       "                       nan,             nan,             nan,\n",
       "                       nan,             nan,             nan,\n",
       "                       nan,             nan,             nan,\n",
       "                       nan,             nan,             nan,\n",
       "                       nan,             nan,             nan,\n",
       "                       nan],\n",
       "          [            nan,             nan,             nan,\n",
       "                       nan,             nan,             nan,\n",
       "                       nan,             nan,             nan,\n",
       "                       nan,             nan,             nan,\n",
       "                       nan,             nan,             nan,\n",
       "                       nan,             nan,             nan,\n",
       "                       nan,             nan,             nan,\n",
       "                       nan,             nan,             nan,\n",
       "                       nan,             nan,             nan,\n",
       "                       nan]]],\n",
       " \n",
       " \n",
       "        [[[-3.62660000e+01, -7.26130000e+01, -1.09067000e+02,\n",
       "           -1.45621000e+02, -1.82207000e+02, -2.18722000e+02,\n",
       "           -2.55127000e+02, -2.91434000e+02, -3.27688000e+02,\n",
       "           -3.63984000e+02, -4.00375000e+02, -4.36877000e+02,\n",
       "           -4.73458000e+02, -5.10022000e+02, -5.46490000e+02,\n",
       "           -5.82850000e+02, -6.19124000e+02, -6.55385000e+02,\n",
       "           -6.91719000e+02, -7.28159000e+02, -7.64703000e+02,\n",
       "           -8.01291000e+02, -8.37818000e+02, -8.74238000e+02,\n",
       "           -9.10556000e+02, -9.46811000e+02, -9.83097000e+02,\n",
       "                       nan],\n",
       "          [-3.61820000e+01, -7.24230000e+01, -1.08728000e+02,\n",
       "           -1.45116000e+02, -1.81579000e+02, -2.18094000e+02,\n",
       "           -2.54590000e+02, -2.91019000e+02, -3.27366000e+02,\n",
       "           -3.63639000e+02, -3.99849000e+02, -4.36021000e+02,\n",
       "           -4.72229000e+02, -5.08499000e+02, -5.44842000e+02,\n",
       "           -5.81268000e+02, -6.17762000e+02, -6.54278000e+02,\n",
       "           -6.90745000e+02, -7.27136000e+02, -7.63444000e+02,\n",
       "           -7.99687000e+02, -8.35871000e+02, -8.72052000e+02,\n",
       "           -9.08290000e+02, -9.44593000e+02, -9.80977000e+02,\n",
       "                       nan],\n",
       "          [-3.61740000e+01, -7.23740000e+01, -1.08602000e+02,\n",
       "           -1.44842000e+02, -1.81083000e+02, -2.17320000e+02,\n",
       "           -2.53566000e+02, -2.89831000e+02, -3.26113000e+02,\n",
       "           -3.62409000e+02, -3.98720000e+02, -4.35050000e+02,\n",
       "           -4.71398000e+02, -5.07756000e+02, -5.44107000e+02,\n",
       "           -5.80451000e+02, -6.16800000e+02, -6.53158000e+02,\n",
       "           -6.89509000e+02, -7.25842000e+02, -7.62157000e+02,\n",
       "           -7.98456000e+02, -8.34741000e+02, -8.71009000e+02,\n",
       "           -9.07259000e+02, -9.43497000e+02, -9.79736000e+02,\n",
       "                       nan],\n",
       "          [            nan,             nan,             nan,\n",
       "                       nan,             nan,             nan,\n",
       "                       nan,             nan,             nan,\n",
       "                       nan,             nan,             nan,\n",
       "                       nan,             nan,             nan,\n",
       "                       nan,             nan,             nan,\n",
       "                       nan,             nan,             nan,\n",
       "                       nan,             nan,             nan,\n",
       "                       nan,             nan,             nan,\n",
       "                       nan],\n",
       "          [            nan,             nan,             nan,\n",
       "                       nan,             nan,             nan,\n",
       "                       nan,             nan,             nan,\n",
       "                       nan,             nan,             nan,\n",
       "                       nan,             nan,             nan,\n",
       "                       nan,             nan,             nan,\n",
       "                       nan,             nan,             nan,\n",
       "                       nan,             nan,             nan,\n",
       "                       nan,             nan,             nan,\n",
       "                       nan]]]]),\n",
       " 'stopReasons': array(['distanceLimit', 'distanceLimit', 'distanceLimit',\n",
       "        'collisionLimit', 'collisionLimit'], dtype=object),\n",
       " 'endTags': {'w7x-component-id': array([(notSet = void), (notSet = void), (notSet = void), (uInt64 = 166),\n",
       "         (uInt64 = 166)], dtype=object)},\n",
       " 'responseSize': 6080}"
      ]
     },
     "execution_count": 10,
     "metadata": {},
     "output_type": "execute_result"
    }
   ],
   "source": [
    "result"
   ]
  },
  {
   "cell_type": "code",
   "execution_count": 19,
   "id": "b7b2331a-32aa-484f-b8b6-90cf59e44247",
   "metadata": {},
   "outputs": [
    {
     "name": "stdout",
     "output_type": "stream",
     "text": [
      "Tracing\n",
      "Done\n"
     ]
    }
   ],
   "source": [
    "points = np.linspace([6.1, 0.0, 0.0], [6.3, 0, 0], 20, axis = 1)\n",
    "pcPoints = tracer.poincareInPhiPlanes(points, [0.0], 500, config, grid, geometry = geometry, distanceLimit = 1e4, stepSize = 1e-3)"
   ]
  },
  {
   "cell_type": "code",
   "execution_count": 12,
   "id": "b11fdb1a-9c75-4f78-b3ff-855c9c4372bf",
   "metadata": {},
   "outputs": [
    {
     "data": {
      "text/plain": [
       "(5, 1, 20, 138)"
      ]
     },
     "execution_count": 12,
     "metadata": {},
     "output_type": "execute_result"
    }
   ],
   "source": [
    "pcPoints.shape"
   ]
  },
  {
   "cell_type": "code",
   "execution_count": 13,
   "id": "9930e6a3-30b8-4753-8e83-ee10673b0afb",
   "metadata": {},
   "outputs": [
    {
     "name": "stdout",
     "output_type": "stream",
     "text": [
      "Creating request\n",
      "Getting plane\n",
      "Setting phi\n",
      "Setting center\n",
      "Sending request\n"
     ]
    }
   ],
   "source": [
    "xl, yl, zl = fsc.geometry.planarCut(geometry, geoLib = tracer.geometryLib, phi = 0)\n",
    "rl = np.sqrt(xl**2 + yl**2)"
   ]
  },
  {
   "cell_type": "code",
   "execution_count": 18,
   "id": "aaea0e17-7699-4a9b-87a8-b231e5fdbdc7",
   "metadata": {},
   "outputs": [
    {
     "data": {
      "text/plain": [
       "(-0.2, 0.2)"
      ]
     },
     "execution_count": 18,
     "metadata": {},
     "output_type": "execute_result"
    },
    {
     "data": {
      "image/png": "[encoded data removed]",
      "text/plain": [
       "<Figure size 648x648 with 2 Axes>"
      ]
     },
     "metadata": {
      "needs_background": "light"
     },
     "output_type": "display_data"
    }
   ],
   "source": [
    "plt.figure(figsize = (9,9))\n",
    "\n",
    "for v1, v2 in zip(rl, zl):\n",
    "    plt.plot(v1, v2, c = \"k\")\n",
    "\n",
    "x, y, z, lcf, lcb = pcPoints\n",
    "\n",
    "lc = lcf + lcb\n",
    "\n",
    "mask1 = np.logical_and(lcf > 0, lcb > 0)\n",
    "mask2 = np.logical_and(lcf < 0, lcb < 0)\n",
    "\n",
    "r = np.sqrt(x**2 + y**2)\n",
    "plt.scatter(r[mask2], z[mask2], s = 1, c = 'k')\n",
    "plt.scatter(r[mask1], z[mask1], s = 1, c = lc[mask1], norm=matplotlib.colors.LogNorm())\n",
    "\n",
    "plt.axis('equal')\n",
    "plt.colorbar()\n",
    "plt.xlim(6, 6.25)\n",
    "plt.ylim(-0.2, 0.2)"
   ]
  },
  {
   "cell_type": "code",
   "execution_count": 10,
   "id": "20011eaa-db67-47c2-a5d3-6a4d1e1076e9",
   "metadata": {},
   "outputs": [
    {
     "data": {
      "text/plain": [
       "(224, 2)"
      ]
     },
     "execution_count": 10,
     "metadata": {},
     "output_type": "execute_result"
    }
   ],
   "source": [
    "xl.shape"
   ]
  },
  {
   "cell_type": "code",
   "execution_count": 15,
   "id": "4dfc88ef-7ecc-4d61-8efd-fcd4bf15ad6a",
   "metadata": {},
   "outputs": [
    {
     "name": "stdout",
     "output_type": "stream",
     "text": [
      "Help on class FLTResponse in module fsc.native:\n",
      "\n",
      "class FLTResponse(builtins.object)\n",
      " |  Static methods defined here:\n",
      " |  \n",
      " |  __init__ = (...) from builtins.PyCapsule\n",
      " |      () -> None\n",
      " |  \n",
      " |  newMessage(...) from builtins.PyCapsule\n",
      " |      newMessage() -> object\n",
      " |  \n",
      " |  ----------------------------------------------------------------------\n",
      " |  Data descriptors defined here:\n",
      " |  \n",
      " |  __dict__\n",
      " |      dictionary for instance variables (if defined)\n",
      " |  \n",
      " |  __weakref__\n",
      " |      list of weak references to the object (if defined)\n",
      " |  \n",
      " |  ----------------------------------------------------------------------\n",
      " |  Data and other attributes defined here:\n",
      " |  \n",
      " |  Builder = <class 'fsc.native.FLT.methods.trace.FLTResponse.Builder'>\n",
      " |  \n",
      " |  Pipeline = <class 'fsc.native.FLT.methods.trace.FLTResponse.Pipeline'>\n",
      " |  \n",
      " |  Promise = <class 'fsc.native.FLT.methods.trace.FLTResponse.Promise'>\n",
      " |  \n",
      " |  Reader = <class 'fsc.native.FLT.methods.trace.FLTResponse.Reader'>\n",
      "\n"
     ]
    }
   ],
   "source": [
    "help(fsc.native.FLTResponse)"
   ]
  },
  {
   "cell_type": "code",
   "execution_count": null,
   "id": "631436ec-d751-44bb-94fb-603139def955",
   "metadata": {},
   "outputs": [],
   "source": []
  }
 ],
 "metadata": {
  "kernelspec": {
   "display_name": "Python 3 (ipykernel)",
   "language": "python",
   "name": "python3"
  },
  "language_info": {
   "codemirror_mode": {
    "name": "ipython",
    "version": 3
   },
   "file_extension": ".py",
   "mimetype": "text/x-python",
   "name": "python",
   "nbconvert_exporter": "python",
   "pygments_lexer": "ipython3",
   "version": "3.10.4"
  }
 },
 "nbformat": 4,
 "nbformat_minor": 5
}
