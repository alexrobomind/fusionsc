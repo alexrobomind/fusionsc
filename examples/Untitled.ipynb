{
 "cells": [
  {
   "cell_type": "code",
   "execution_count": 1,
   "id": "b09d92b9-3933-4883-bc17-faa65e06eb31",
   "metadata": {},
   "outputs": [],
   "source": [
    "import fsc\n",
    "from fsc.devices import w7x"
   ]
  },
  {
   "cell_type": "code",
   "execution_count": 18,
   "id": "ad23b30a-3aad-43ad-96bb-b10568cb6c51",
   "metadata": {},
   "outputs": [],
   "source": [
    "fsc.resolve.importOfflineData(\"C:\\\\Users\\\\Knieps\\\\Downloads\\\\w7x.fsc\")"
   ]
  },
  {
   "cell_type": "code",
   "execution_count": 17,
   "id": "182fb68f-cd98-46a5-81c4-cb2a271b508b",
   "metadata": {},
   "outputs": [
    {
     "data": {
      "text/plain": [
       "(rMin = 4, rMax = 6, zMin = -1.5, zMax = 1.5, nSym = 1, nR = 128, nZ = 128, nPhi = 1)"
      ]
     },
     "execution_count": 17,
     "metadata": {},
     "output_type": "execute_result"
    }
   ],
   "source": [
    "grid = fsc.native.ToroidalGrid.newMessage()\n",
    "grid.nR = 128\n",
    "grid.nZ = 128\n",
    "grid.nPhi = 1\n",
    "grid.rMin = 4\n",
    "grid.rMax = 6\n",
    "grid.zMin = -1.5\n",
    "grid.zMax = 1.5\n",
    "grid"
   ]
  },
  {
   "cell_type": "code",
   "execution_count": 19,
   "id": "218c308d-7733-4b30-9b01-f08c4bc459c6",
   "metadata": {},
   "outputs": [],
   "source": [
    "config = w7x.standard()"
   ]
  },
  {
   "cell_type": "code",
   "execution_count": 26,
   "id": "cef73f93-cdbb-4dc9-8233-6be64939791a",
   "metadata": {},
   "outputs": [],
   "source": [
    "tracer = fsc.tracer()"
   ]
  },
  {
   "cell_type": "code",
   "execution_count": 31,
   "id": "aaf9e551-6109-4953-8dc5-b7ef78b7dc85",
   "metadata": {},
   "outputs": [],
   "source": [
    "compField = tracer.computeField(config, grid)"
   ]
  },
  {
   "cell_type": "code",
   "execution_count": null,
   "id": "7bfddfae-84a2-4b3b-b5f4-e89d56c2acff",
   "metadata": {},
   "outputs": [],
   "source": [
    "fsc.data.download(compField.data).wait()"
   ]
  },
  {
   "cell_type": "code",
   "execution_count": null,
   "id": "6fc294d6-20f5-456a-a104-536b08ac0780",
   "metadata": {},
   "outputs": [],
   "source": []
  }
 ],
 "metadata": {
  "kernelspec": {
   "display_name": "Python 3 (ipykernel)",
   "language": "python",
   "name": "python3"
  },
  "language_info": {
   "codemirror_mode": {
    "name": "ipython",
    "version": 3
   },
   "file_extension": ".py",
   "mimetype": "text/x-python",
   "name": "python",
   "nbconvert_exporter": "python",
   "pygments_lexer": "ipython3",
   "version": "3.10.4"
  }
 },
 "nbformat": 4,
 "nbformat_minor": 5
}
