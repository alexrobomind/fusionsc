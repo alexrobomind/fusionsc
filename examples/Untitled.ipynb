{
 "cells": [
  {
   "cell_type": "code",
   "execution_count": 1,
   "id": "b09d92b9-3933-4883-bc17-faa65e06eb31",
   "metadata": {},
   "outputs": [],
   "source": [
    "import fsc\n",
    "from fsc.devices import w7x"
   ]
  },
  {
   "cell_type": "code",
   "execution_count": 2,
   "id": "ad23b30a-3aad-43ad-96bb-b10568cb6c51",
   "metadata": {},
   "outputs": [],
   "source": [
    "fsc.resolve.importOfflineData(\"C:\\\\Users\\\\Knieps\\\\Downloads\\\\w7x.fsc\")"
   ]
  },
  {
   "cell_type": "code",
   "execution_count": 3,
   "id": "182fb68f-cd98-46a5-81c4-cb2a271b508b",
   "metadata": {},
   "outputs": [
    {
     "name": "stdout",
     "output_type": "stream",
     "text": [
      "(rMin = 4, rMax = 7, zMin = -1.5, zMax = 1.5, nSym = 5, nR = 128, nZ = 128, nPhi = 32)\n",
      "(rMin = 4, rMax = 7, zMin = -1.5, zMax = 1.5, nSym = 5, nR = 256, nZ = 256, nPhi = 128)\n"
     ]
    }
   ],
   "source": [
    "grid = w7x.defaultGrid.clone()\n",
    "grid.nR = 128\n",
    "grid.nZ = 128\n",
    "grid.nPhi = 32\n",
    "\n",
    "print(grid)\n",
    "\n",
    "geoGrid = w7x.defaultGeometryGrid.clone()\n",
    "print(geoGrid)"
   ]
  },
  {
   "cell_type": "code",
   "execution_count": 4,
   "id": "53043dd4-c02b-4a97-8443-bf4f3c083ec3",
   "metadata": {},
   "outputs": [
    {
     "name": "stdout",
     "output_type": "stream",
     "text": [
      "Help on FLT in module fsc.flt object:\n",
      "\n",
      "class FLT(builtins.object)\n",
      " |  FLT(backend)\n",
      " |  \n",
      " |  Methods defined here:\n",
      " |  \n",
      " |  __init__(self, backend)\n",
      " |      Initialize self.  See help(type(self)) for accurate signature.\n",
      " |  \n",
      " |  computeField(self, *args, **kwargs)\n",
      " |      return self.computeFieldAsync(*args, **kwargs).wait()\n",
      " |  \n",
      " |  computeFieldAsync(self, config, grid)\n",
      " |      Returns an array of shape [3, grid.nPhi, grid.nZ, grid.nR] containing the magnetic field.\n",
      " |      The directions along the first coordinate are phi, z, r\n",
      " |  \n",
      " |  indexGeometry(self, *args, **kwargs)\n",
      " |      return self.indexGeometryAsync(*args, **kwargs).wait()\n",
      " |  \n",
      " |  indexGeometryAsync(self, geometry, grid)\n",
      " |  \n",
      " |  poincareInPhiPlanes(self, *args, **kwargs)\n",
      " |      return self.poincareInPhiPlanesAsync(*args, **kwargs).wait()\n",
      " |  \n",
      " |  poincareInPhiPlanesAsync(self, points, phiValues, nTurns, config, grid=None, distanceLimit=10000.0, stepSize=0.001)\n",
      " |  \n",
      " |  traceUntilImpact(self, points, phiValues, nTurns, config, geometry, grid=None, geometryGrid=None, distanceLimit=10000.0, stepSize=0.001)\n",
      " |  \n",
      " |  ----------------------------------------------------------------------\n",
      " |  Data descriptors defined here:\n",
      " |  \n",
      " |  __dict__\n",
      " |      dictionary for instance variables (if defined)\n",
      " |  \n",
      " |  __weakref__\n",
      " |      list of weak references to the object (if defined)\n",
      " |  \n",
      " |  ----------------------------------------------------------------------\n",
      " |  Data and other attributes defined here:\n",
      " |  \n",
      " |  __annotations__ = {'calculator': <class 'fsc.native.FieldCalculator.Cl...\n",
      "\n"
     ]
    }
   ],
   "source": [
    "tracer = fsc.tracer()\n",
    "help(tracer)"
   ]
  },
  {
   "cell_type": "code",
   "execution_count": null,
   "id": "83298642-a685-42fd-b08b-fff8c8dc969d",
   "metadata": {},
   "outputs": [
    {
     "ename": "NameError",
     "evalue": "name 'wb7x' is not defined",
     "output_type": "error",
     "traceback": [
      "\u001b[1;31m---------------------------------------------------------------------------\u001b[0m",
      "\u001b[1;31mNameError\u001b[0m                                 Traceback (most recent call last)",
      "Input \u001b[1;32mIn [5]\u001b[0m, in \u001b[0;36m<cell line: 1>\u001b[1;34m()\u001b[0m\n\u001b[1;32m----> 1\u001b[0m cadCoils \u001b[38;5;241m=\u001b[39m w7x\u001b[38;5;241m.\u001b[39mcomputeCoilFields(tracer\u001b[38;5;241m.\u001b[39mcalculator, \u001b[43mwb7x\u001b[49m\u001b[38;5;241m.\u001b[39mcadCoils(), grid \u001b[38;5;241m=\u001b[39m grid)\n",
      "\u001b[1;31mNameError\u001b[0m: name 'wb7x' is not defined"
     ]
    }
   ],
   "source": [
    "cadCoils = w7x.computeCoilFields(tracer.calculator, w7x.cadCoils(), grid = grid)"
   ]
  },
  {
   "cell_type": "code",
   "execution_count": 6,
   "id": "5738b7b8-f27c-4157-b024-34c724aa400c",
   "metadata": {},
   "outputs": [],
   "source": [
    "fsc.data.writeArchive(cadCoils, \"cadCoils.fsc\").wait()"
   ]
  },
  {
   "cell_type": "code",
   "execution_count": 5,
   "id": "e5fda583-263e-4e1d-87df-753e2fd990cc",
   "metadata": {},
   "outputs": [],
   "source": [
    "archiveCoils = fsc.data.readArchive(\"cadCoils.fsc\").wait()"
   ]
  },
  {
   "cell_type": "code",
   "execution_count": 6,
   "id": "218c308d-7733-4b30-9b01-f08c4bc459c6",
   "metadata": {},
   "outputs": [],
   "source": [
    "config = w7x.standard(coils = archiveCoils)"
   ]
  },
  {
   "cell_type": "code",
   "execution_count": 15,
   "id": "7bb74891-f92b-41a1-a47c-482070fd8ef7",
   "metadata": {
    "collapsed": true,
    "jupyter": {
     "outputs_hidden": true
    },
    "tags": []
   },
   "outputs": [
    {
     "name": "stdout",
     "output_type": "stream",
     "text": [
      "┐\n",
      "└── w7xMagneticConfig\n",
      "    └── coilsAndCurrents\n",
      "        ├── nonplanar\n",
      "        │   ├── 0: 15000.0\n",
      "        │   ├── 1: 15000.0\n",
      "        │   ├── 2: 15000.0\n",
      "        │   ├── 3: 15000.0\n",
      "        │   └── 4: 15000.0\n",
      "        ├── planar\n",
      "        │   ├── 0: 0.0\n",
      "        │   └── 1: 0.0\n",
      "        ├── trim\n",
      "        │   ├── 0: 0.0\n",
      "        │   ├── 1: 0.0\n",
      "        │   ├── 2: 0.0\n",
      "        │   ├── 3: 0.0\n",
      "        │   └── 4: 0.0\n",
      "        ├── control\n",
      "        │   ├── 0: 0.0\n",
      "        │   └── 1: 0.0\n",
      "        └── coils\n",
      "            └── fields\n",
      "                ├── mainFields\n",
      "                │   ├── 0\n",
      "                │   │   └── computedField\n",
      "                │   │       ├── grid\n",
      "                │   │       │   ├── rMin: 4.0\n",
      "                │   │       │   ├── rMax: 7.0\n",
      "                │   │       │   ├── zMin: -1.5\n",
      "                │   │       │   ├── zMax: 1.5\n",
      "                │   │       │   ├── nSym: 5\n",
      "                │   │       │   ├── nR: 128\n",
      "                │   │       │   ├── nZ: 128\n",
      "                │   │       │   └── nPhi: 32\n",
      "                │   │       └── data: <fsc.native.DataRef.Client object at 0x0000012812D72200>\n",
      "                │   ├── 1\n",
      "                │   │   └── computedField\n",
      "                │   │       ├── grid\n",
      "                │   │       │   ├── rMin: 4.0\n",
      "                │   │       │   ├── rMax: 7.0\n",
      "                │   │       │   ├── zMin: -1.5\n",
      "                │   │       │   ├── zMax: 1.5\n",
      "                │   │       │   ├── nSym: 5\n",
      "                │   │       │   ├── nR: 128\n",
      "                │   │       │   ├── nZ: 128\n",
      "                │   │       │   └── nPhi: 32\n",
      "                │   │       └── data: <fsc.native.DataRef.Client object at 0x0000012812D722F0>\n",
      "                │   ├── 2\n",
      "                │   │   └── computedField\n",
      "                │   │       ├── grid\n",
      "                │   │       │   ├── rMin: 4.0\n",
      "                │   │       │   ├── rMax: 7.0\n",
      "                │   │       │   ├── zMin: -1.5\n",
      "                │   │       │   ├── zMax: 1.5\n",
      "                │   │       │   ├── nSym: 5\n",
      "                │   │       │   ├── nR: 128\n",
      "                │   │       │   ├── nZ: 128\n",
      "                │   │       │   └── nPhi: 32\n",
      "                │   │       └── data: <fsc.native.DataRef.Client object at 0x0000012812D722A0>\n",
      "                │   ├── 3\n",
      "                │   │   └── computedField\n",
      "                │   │       ├── grid\n",
      "                │   │       │   ├── rMin: 4.0\n",
      "                │   │       │   ├── rMax: 7.0\n",
      "                │   │       │   ├── zMin: -1.5\n",
      "                │   │       │   ├── zMax: 1.5\n",
      "                │   │       │   ├── nSym: 5\n",
      "                │   │       │   ├── nR: 128\n",
      "                │   │       │   ├── nZ: 128\n",
      "                │   │       │   └── nPhi: 32\n",
      "                │   │       └── data: <fsc.native.DataRef.Client object at 0x0000012812D72200>\n",
      "                │   ├── 4\n",
      "                │   │   └── computedField\n",
      "                │   │       ├── grid\n",
      "                │   │       │   ├── rMin: 4.0\n",
      "                │   │       │   ├── rMax: 7.0\n",
      "                │   │       │   ├── zMin: -1.5\n",
      "                │   │       │   ├── zMax: 1.5\n",
      "                │   │       │   ├── nSym: 5\n",
      "                │   │       │   ├── nR: 128\n",
      "                │   │       │   ├── nZ: 128\n",
      "                │   │       │   └── nPhi: 32\n",
      "                │   │       └── data: <fsc.native.DataRef.Client object at 0x0000012812D722A0>\n",
      "                │   ├── 5\n",
      "                │   │   └── computedField\n",
      "                │   │       ├── grid\n",
      "                │   │       │   ├── rMin: 4.0\n",
      "                │   │       │   ├── rMax: 7.0\n",
      "                │   │       │   ├── zMin: -1.5\n",
      "                │   │       │   ├── zMax: 1.5\n",
      "                │   │       │   ├── nSym: 5\n",
      "                │   │       │   ├── nR: 128\n",
      "                │   │       │   ├── nZ: 128\n",
      "                │   │       │   └── nPhi: 32\n",
      "                │   │       └── data: <fsc.native.DataRef.Client object at 0x0000012812D72200>\n",
      "                │   └── 6\n",
      "                │       └── computedField\n",
      "                │           ├── grid\n",
      "                │           │   ├── rMin: 4.0\n",
      "                │           │   ├── rMax: 7.0\n",
      "                │           │   ├── zMin: -1.5\n",
      "                │           │   ├── zMax: 1.5\n",
      "                │           │   ├── nSym: 5\n",
      "                │           │   ├── nR: 128\n",
      "                │           │   ├── nZ: 128\n",
      "                │           │   └── nPhi: 32\n",
      "                │           └── data: <fsc.native.DataRef.Client object at 0x0000012812D722F0>\n",
      "                ├── trimFields\n",
      "                │   ├── 0\n",
      "                │   │   └── computedField\n",
      "                │   │       ├── grid\n",
      "                │   │       │   ├── rMin: 4.0\n",
      "                │   │       │   ├── rMax: 7.0\n",
      "                │   │       │   ├── zMin: -1.5\n",
      "                │   │       │   ├── zMax: 1.5\n",
      "                │   │       │   ├── nSym: 5\n",
      "                │   │       │   ├── nR: 128\n",
      "                │   │       │   ├── nZ: 128\n",
      "                │   │       │   └── nPhi: 32\n",
      "                │   │       └── data: <fsc.native.DataRef.Client object at 0x0000012812D72520>\n",
      "                │   ├── 1\n",
      "                │   │   └── computedField\n",
      "                │   │       ├── grid\n",
      "                │   │       │   ├── rMin: 4.0\n",
      "                │   │       │   ├── rMax: 7.0\n",
      "                │   │       │   ├── zMin: -1.5\n",
      "                │   │       │   ├── zMax: 1.5\n",
      "                │   │       │   ├── nSym: 5\n",
      "                │   │       │   ├── nR: 128\n",
      "                │   │       │   ├── nZ: 128\n",
      "                │   │       │   └── nPhi: 32\n",
      "                │   │       └── data: <fsc.native.DataRef.Client object at 0x0000012812D72520>\n",
      "                │   ├── 2\n",
      "                │   │   └── computedField\n",
      "                │   │       ├── grid\n",
      "                │   │       │   ├── rMin: 4.0\n",
      "                │   │       │   ├── rMax: 7.0\n",
      "                │   │       │   ├── zMin: -1.5\n",
      "                │   │       │   ├── zMax: 1.5\n",
      "                │   │       │   ├── nSym: 5\n",
      "                │   │       │   ├── nR: 128\n",
      "                │   │       │   ├── nZ: 128\n",
      "                │   │       │   └── nPhi: 32\n",
      "                │   │       └── data: <fsc.native.DataRef.Client object at 0x0000012812D72660>\n",
      "                │   ├── 3\n",
      "                │   │   └── computedField\n",
      "                │   │       ├── grid\n",
      "                │   │       │   ├── rMin: 4.0\n",
      "                │   │       │   ├── rMax: 7.0\n",
      "                │   │       │   ├── zMin: -1.5\n",
      "                │   │       │   ├── zMax: 1.5\n",
      "                │   │       │   ├── nSym: 5\n",
      "                │   │       │   ├── nR: 128\n",
      "                │   │       │   ├── nZ: 128\n",
      "                │   │       │   └── nPhi: 32\n",
      "                │   │       └── data: <fsc.native.DataRef.Client object at 0x0000012812D72520>\n",
      "                │   └── 4\n",
      "                │       └── computedField\n",
      "                │           ├── grid\n",
      "                │           │   ├── rMin: 4.0\n",
      "                │           │   ├── rMax: 7.0\n",
      "                │           │   ├── zMin: -1.5\n",
      "                │           │   ├── zMax: 1.5\n",
      "                │           │   ├── nSym: 5\n",
      "                │           │   ├── nR: 128\n",
      "                │           │   ├── nZ: 128\n",
      "                │           │   └── nPhi: 32\n",
      "                │           └── data: <fsc.native.DataRef.Client object at 0x0000012812D72660>\n",
      "                └── controlFields\n",
      "                    ├── 0\n",
      "                    │   └── computedField\n",
      "                    │       ├── grid\n",
      "                    │       │   ├── rMin: 4.0\n",
      "                    │       │   ├── rMax: 7.0\n",
      "                    │       │   ├── zMin: -1.5\n",
      "                    │       │   ├── zMax: 1.5\n",
      "                    │       │   ├── nSym: 5\n",
      "                    │       │   ├── nR: 128\n",
      "                    │       │   ├── nZ: 128\n",
      "                    │       │   └── nPhi: 32\n",
      "                    │       └── data: <fsc.native.DataRef.Client object at 0x0000012812D72200>\n",
      "                    ├── 1\n",
      "                    │   └── computedField\n",
      "                    │       ├── grid\n",
      "                    │       │   ├── rMin: 4.0\n",
      "                    │       │   ├── rMax: 7.0\n",
      "                    │       │   ├── zMin: -1.5\n",
      "                    │       │   ├── zMax: 1.5\n",
      "                    │       │   ├── nSym: 5\n",
      "                    │       │   ├── nR: 128\n",
      "                    │       │   ├── nZ: 128\n",
      "                    │       │   └── nPhi: 32\n",
      "                    │       └── data: <fsc.native.DataRef.Client object at 0x0000012812D722A0>\n",
      "                    ├── 2\n",
      "                    │   └── computedField\n",
      "                    │       ├── grid\n",
      "                    │       │   ├── rMin: 4.0\n",
      "                    │       │   ├── rMax: 7.0\n",
      "                    │       │   ├── zMin: -1.5\n",
      "                    │       │   ├── zMax: 1.5\n",
      "                    │       │   ├── nSym: 5\n",
      "                    │       │   ├── nR: 128\n",
      "                    │       │   ├── nZ: 128\n",
      "                    │       │   └── nPhi: 32\n",
      "                    │       └── data: <fsc.native.DataRef.Client object at 0x0000012812D72700>\n",
      "                    ├── 3\n",
      "                    │   └── computedField\n",
      "                    │       ├── grid\n",
      "                    │       │   ├── rMin: 4.0\n",
      "                    │       │   ├── rMax: 7.0\n",
      "                    │       │   ├── zMin: -1.5\n",
      "                    │       │   ├── zMax: 1.5\n",
      "                    │       │   ├── nSym: 5\n",
      "                    │       │   ├── nR: 128\n",
      "                    │       │   ├── nZ: 128\n",
      "                    │       │   └── nPhi: 32\n",
      "                    │       └── data: <fsc.native.DataRef.Client object at 0x0000012812D70A40>\n",
      "                    ├── 4\n",
      "                    │   └── computedField\n",
      "                    │       ├── grid\n",
      "                    │       │   ├── rMin: 4.0\n",
      "                    │       │   ├── rMax: 7.0\n",
      "                    │       │   ├── zMin: -1.5\n",
      "                    │       │   ├── zMax: 1.5\n",
      "                    │       │   ├── nSym: 5\n",
      "                    │       │   ├── nR: 128\n",
      "                    │       │   ├── nZ: 128\n",
      "                    │       │   └── nPhi: 32\n",
      "                    │       └── data: <fsc.native.DataRef.Client object at 0x0000012812D72200>\n",
      "                    ├── 5\n",
      "                    │   └── computedField\n",
      "                    │       ├── grid\n",
      "                    │       │   ├── rMin: 4.0\n",
      "                    │       │   ├── rMax: 7.0\n",
      "                    │       │   ├── zMin: -1.5\n",
      "                    │       │   ├── zMax: 1.5\n",
      "                    │       │   ├── nSym: 5\n",
      "                    │       │   ├── nR: 128\n",
      "                    │       │   ├── nZ: 128\n",
      "                    │       │   └── nPhi: 32\n",
      "                    │       └── data: <fsc.native.DataRef.Client object at 0x0000012812D709A0>\n",
      "                    ├── 6\n",
      "                    │   └── computedField\n",
      "                    │       ├── grid\n",
      "                    │       │   ├── rMin: 4.0\n",
      "                    │       │   ├── rMax: 7.0\n",
      "                    │       │   ├── zMin: -1.5\n",
      "                    │       │   ├── zMax: 1.5\n",
      "                    │       │   ├── nSym: 5\n",
      "                    │       │   ├── nR: 128\n",
      "                    │       │   ├── nZ: 128\n",
      "                    │       │   └── nPhi: 32\n",
      "                    │       └── data: <fsc.native.DataRef.Client object at 0x0000012812D722A0>\n",
      "                    ├── 7\n",
      "                    │   └── computedField\n",
      "                    │       ├── grid\n",
      "                    │       │   ├── rMin: 4.0\n",
      "                    │       │   ├── rMax: 7.0\n",
      "                    │       │   ├── zMin: -1.5\n",
      "                    │       │   ├── zMax: 1.5\n",
      "                    │       │   ├── nSym: 5\n",
      "                    │       │   ├── nR: 128\n",
      "                    │       │   ├── nZ: 128\n",
      "                    │       │   └── nPhi: 32\n",
      "                    │       └── data: <fsc.native.DataRef.Client object at 0x0000012812D70A40>\n",
      "                    ├── 8\n",
      "                    │   └── computedField\n",
      "                    │       ├── grid\n",
      "                    │       │   ├── rMin: 4.0\n",
      "                    │       │   ├── rMax: 7.0\n",
      "                    │       │   ├── zMin: -1.5\n",
      "                    │       │   ├── zMax: 1.5\n",
      "                    │       │   ├── nSym: 5\n",
      "                    │       │   ├── nR: 128\n",
      "                    │       │   ├── nZ: 128\n",
      "                    │       │   └── nPhi: 32\n",
      "                    │       └── data: <fsc.native.DataRef.Client object at 0x0000012812D72700>\n",
      "                    └── 9\n",
      "                        └── computedField\n",
      "                            ├── grid\n",
      "                            │   ├── rMin: 4.0\n",
      "                            │   ├── rMax: 7.0\n",
      "                            │   ├── zMin: -1.5\n",
      "                            │   ├── zMax: 1.5\n",
      "                            │   ├── nSym: 5\n",
      "                            │   ├── nR: 128\n",
      "                            │   ├── nZ: 128\n",
      "                            │   └── nPhi: 32\n",
      "                            └── data: <fsc.native.DataRef.Client object at 0x0000012812D70950>\n"
     ]
    }
   ],
   "source": [
    "config.ptree()"
   ]
  },
  {
   "cell_type": "code",
   "execution_count": 7,
   "id": "6fc294d6-20f5-456a-a104-536b08ac0780",
   "metadata": {},
   "outputs": [],
   "source": [
    "import matplotlib.pyplot as plt\n",
    "import numpy as np"
   ]
  },
  {
   "cell_type": "code",
   "execution_count": 8,
   "id": "9b505017-a4bd-4350-9e3f-469655783014",
   "metadata": {},
   "outputs": [
    {
     "name": "stdout",
     "output_type": "stream",
     "text": [
      "Grid: (rMin = 4, rMax = 7, zMin = -1.5, zMax = 1.5, nSym = 5, nR = 128, nZ = 128, nPhi = 32)\n"
     ]
    }
   ],
   "source": [
    "bPhi, bZ, bR = tracer.computeField(config, grid)"
   ]
  },
  {
   "cell_type": "code",
   "execution_count": 9,
   "id": "ada2f980-c26d-44f7-b527-9c09554ba573",
   "metadata": {},
   "outputs": [
    {
     "data": {
      "text/plain": [
       "<matplotlib.colorbar.Colorbar at 0x2f2340ecc70>"
      ]
     },
     "execution_count": 9,
     "metadata": {},
     "output_type": "execute_result"
    },
    {
     "data": {
      "image/png": "[encoded data removed]",
      "text/plain": [
       "<Figure size 864x864 with 2 Axes>"
      ]
     },
     "metadata": {
      "needs_background": "light"
     },
     "output_type": "display_data"
    }
   ],
   "source": [
    "plt.figure(figsize=(12,12))\n",
    "plt.imshow(bPhi[0], vmin = -1, vmax = 3)\n",
    "plt.colorbar()"
   ]
  },
  {
   "cell_type": "code",
   "execution_count": 8,
   "id": "8a4ed6be-6e2c-47f3-8fb8-fb35c047b545",
   "metadata": {},
   "outputs": [
    {
     "name": "stdout",
     "output_type": "stream",
     "text": [
      "[[5.6        5.64444444 5.68888889 5.73333333 5.77777778 5.82222222\n",
      "  5.86666667 5.91111111 5.95555556 6.        ]\n",
      " [0.         0.         0.         0.         0.         0.\n",
      "  0.         0.         0.         0.        ]\n",
      " [0.         0.         0.         0.         0.         0.\n",
      "  0.         0.         0.         0.        ]]\n",
      "Assigning\n",
      "Tracing\n",
      "Done\n"
     ]
    }
   ],
   "source": [
    "points = np.linspace([5.6, 0.0, 0.0], [6.0, 0, 0], 10, axis = 1)\n",
    "print(points)\n",
    "pcPoints = tracer.poincareInPhiPlanes(points, [0.0], 2000, config, grid, distanceLimit = 5e4, stepSize = 1e-3)"
   ]
  },
  {
   "cell_type": "code",
   "execution_count": 9,
   "id": "98b4914c-d60f-4377-bf4a-56d5152a926a",
   "metadata": {},
   "outputs": [
    {
     "data": {
      "text/plain": [
       "(3, 1, 10, 1379)"
      ]
     },
     "execution_count": 9,
     "metadata": {},
     "output_type": "execute_result"
    }
   ],
   "source": [
    "pcPoints.shape"
   ]
  },
  {
   "cell_type": "code",
   "execution_count": 11,
   "id": "fbcedd67-6902-49ea-8c11-0d99e8873439",
   "metadata": {},
   "outputs": [
    {
     "data": {
      "text/plain": [
       "(5.042541321691784, 6.388858923162233, -1.3173962909229484, 1.3305690967733024)"
      ]
     },
     "execution_count": 11,
     "metadata": {},
     "output_type": "execute_result"
    },
    {
     "data": {
      "image/png": "[encoded data removed]",
      "text/plain": [
       "<Figure size 648x648 with 1 Axes>"
      ]
     },
     "metadata": {
      "needs_background": "light"
     },
     "output_type": "display_data"
    }
   ],
   "source": [
    "plt.figure(figsize=(9,9))\n",
    "x, y, z = pcPoints.reshape([3, -1])[:,:]\n",
    "plt.scatter(x, z, s = 0.1)\n",
    "plt.axis('equal')"
   ]
  },
  {
   "cell_type": "code",
   "execution_count": 15,
   "id": "ff60d6c9-badd-493a-8181-a1860ebe2324",
   "metadata": {},
   "outputs": [
    {
     "data": {
      "text/plain": [
       "<matplotlib.colorbar.Colorbar at 0x1e8dc3307f0>"
      ]
     },
     "execution_count": 15,
     "metadata": {},
     "output_type": "execute_result"
    },
    {
     "data": {
      "image/png": "[encoded data removed]",
      "text/plain": [
       "<Figure size 432x288 with 2 Axes>"
      ]
     },
     "metadata": {
      "needs_background": "light"
     },
     "output_type": "display_data"
    }
   ],
   "source": [
    "plt.imshow((bR / bPhi)[0], vmin = -0.1, vmax = 0.1)\n",
    "plt.colorbar()"
   ]
  },
  {
   "cell_type": "code",
   "execution_count": 13,
   "id": "e5ef1626-5143-4ca9-bd4a-dd41e5b2b8e8",
   "metadata": {},
   "outputs": [
    {
     "data": {
      "text/plain": [
       "0.9800000000000001"
      ]
     },
     "execution_count": 13,
     "metadata": {},
     "output_type": "execute_result"
    }
   ],
   "source": [
    "0.5**2 + 0.8**2 + 0.3**2"
   ]
  },
  {
   "cell_type": "code",
   "execution_count": null,
   "id": "1985fafe-4640-46f5-8fda-0db7b19b4634",
   "metadata": {},
   "outputs": [],
   "source": []
  }
 ],
 "metadata": {
  "kernelspec": {
   "display_name": "Python 3 (ipykernel)",
   "language": "python",
   "name": "python3"
  },
  "language_info": {
   "codemirror_mode": {
    "name": "ipython",
    "version": 3
   },
   "file_extension": ".py",
   "mimetype": "text/x-python",
   "name": "python",
   "nbconvert_exporter": "python",
   "pygments_lexer": "ipython3",
   "version": "3.10.4"
  }
 },
 "nbformat": 4,
 "nbformat_minor": 5
}
